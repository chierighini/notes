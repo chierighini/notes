{
  "nbformat": 4,
  "nbformat_minor": 0,
  "metadata": {
    "colab": {
      "name": "applied_data_science_python4.ipynb",
      "provenance": [],
      "collapsed_sections": [],
      "authorship_tag": "ABX9TyMOYiHr/8ZwSMr4vBvHhc7K",
      "include_colab_link": true
    },
    "kernelspec": {
      "name": "python3",
      "display_name": "Python 3"
    }
  },
  "cells": [
    {
      "cell_type": "markdown",
      "metadata": {
        "id": "view-in-github",
        "colab_type": "text"
      },
      "source": [
        "<a href=\"https://colab.research.google.com/github/chierighini/notes/blob/main/applied_data_science_python4.ipynb\" target=\"_parent\"><img src=\"https://colab.research.google.com/assets/colab-badge.svg\" alt=\"Open In Colab\"/></a>"
      ]
    },
    {
      "cell_type": "markdown",
      "metadata": {
        "id": "rlUoRBJFCelX"
      },
      "source": [
        "# Applied Data Sicence with Python, Part 4"
      ]
    },
    {
      "cell_type": "markdown",
      "metadata": {
        "id": "YFOAeL5wJCCh"
      },
      "source": [
        "## Linear and Multiple Linear Regression\n",
        "In linear regression we use a set of data points to train our model to make predictions."
      ]
    },
    {
      "cell_type": "markdown",
      "metadata": {
        "id": "Lw-Ach8bMTP_"
      },
      "source": [
        "### Linear Regression\n",
        "Linear Regression refers to one variable being used to make a prediction."
      ]
    },
    {
      "cell_type": "markdown",
      "metadata": {
        "id": "dISweoaAMd7U"
      },
      "source": [
        "### Multiple Linear Regression\n",
        "Multiple Linear regression is using two or more variables to make your prediction."
      ]
    },
    {
      "cell_type": "markdown",
      "metadata": {
        "id": "eM2mTsx6OrXJ"
      },
      "source": [
        "## Model Evaluation using Visualization"
      ]
    },
    {
      "cell_type": "markdown",
      "metadata": {
        "id": "NeJ7S8dSO5Kq"
      },
      "source": [
        "### Regression Plots\n",
        "Regression plots are a good estimate of the realtionship of the variables, positive or negative, and the strength of the correlation. The dependant variable is placed on the vertical axis and the independent one is placed on the horizontal axis.\n",
        "\n",
        "`seaborn` has a method for regression plots: `regplot(x=hor_var,y=vert_var,data=df_name)`"
      ]
    },
    {
      "cell_type": "markdown",
      "metadata": {
        "id": "ei_Bto4sQLAK"
      },
      "source": [
        "### Residual Plot\n",
        "In the residual plot we take the predicted value and subtract the actual value and plotting it accordingly. If the distribution of the plots is dispersed around the horizontal axis, then the linear model is appropriate for your variable. If not, a curved residual plot (U-shaped) or any other non-random dsitributions for example, then a non linear model is more appropriate.\n",
        "\n",
        "`seaborn` also has a method for residual plots: `residplots(independent_var,target_var)`"
      ]
    },
    {
      "cell_type": "markdown",
      "metadata": {
        "id": "N01SKYgmTLQO"
      },
      "source": [
        "### Distribution Plots\n",
        "A distribution plot counts the predicted values versus the actual values, and it's a very useful tool for plots that have more than one independent variable.\n",
        "\n",
        "It enables you to compare the actual values to the predicted ones by putting them into a distribution."
      ]
    },
    {
      "cell_type": "markdown",
      "metadata": {
        "id": "HBsdqFLdUf4F"
      },
      "source": [
        "## Polynomial Regression and Pipelines\n",
        "A special case of the general linear regression model, and very useful for describing curvilinear relationships."
      ]
    },
    {
      "cell_type": "markdown",
      "metadata": {
        "id": "ebidDMD1Xjsb"
      },
      "source": [
        "### Polynomial Regression\n",
        "We can use this in order to fit our model into a polynomial function and therefore, making our predictions more precise. An example of a polynomial function is the quadratic function. They can be put in whatever order is needed to fit our needs.\n",
        "\n",
        "`numpy` has a method for this called `polyfit`.\n",
        "\n",
        "For multi-dimensional polynomial regression we must use `sklearn` module to preprocess and create a polynomial feature object. The `preprocessing` module is used to simplify many tasks.\n",
        "\n",
        "`sklearn` documentation: https://scikit-learn.org/stable/modules/preprocessing.html"
      ]
    },
    {
      "cell_type": "markdown",
      "metadata": {
        "id": "ksyYenxFaCIQ"
      },
      "source": [
        "### Pipeline\n",
        "Pipelines are used to simplify our code. There is a `pipeline` module on `sklearn`. Pipelines will take all of our transforms and make them sequentially.\n",
        "\n",
        "Documentation: https://scikit-learn.org/stable/modules/generated/sklearn.pipeline.Pipeline.html"
      ]
    },
    {
      "cell_type": "markdown",
      "metadata": {
        "id": "CmJfZrR9a0xp"
      },
      "source": [
        "## Measures for In-Sample Evaluation\n",
        "Ways to verify how well our model fits numerically.\n",
        "\n",
        "The most common ways of checking the fit of the model are:\n",
        "* MSE (Mean Square Error)\n",
        "* R-squared"
      ]
    },
    {
      "cell_type": "markdown",
      "metadata": {
        "id": "vACVJp8McN6V"
      },
      "source": [
        "### MSE\n",
        "To find the MSE we find the difference between the actual value and the predicted value and square it. Then we sum all the differences for all the values and divide them by the number of samples.\n",
        "\n",
        "`sklean.metrics` has a function for doing just that: `mean_squared_error`"
      ]
    },
    {
      "cell_type": "markdown",
      "metadata": {
        "id": "v8H2mCkDcsxX"
      },
      "source": [
        "### R-squared\n",
        "Also called coeficient of determination, is a measure to see how well the data fits the regression line. R² is a percentage of variation of the target variable explained by the linear model.\n",
        "\n",
        "R² is given by the following equation: \n",
        ">$R^2=1- \\frac{MSE \\ of \\ regression \\ line}{MSE \\ of \\ the \\ average \\ data}$"
      ]
    },
    {
      "cell_type": "markdown",
      "metadata": {
        "id": "J7nFAa2jLpQ5"
      },
      "source": [
        "## Lab Exercises"
      ]
    },
    {
      "cell_type": "markdown",
      "metadata": {
        "id": "vmNkFSipMGfB"
      },
      "source": [
        "###Setup"
      ]
    },
    {
      "cell_type": "code",
      "metadata": {
        "id": "E-9bcBDeL2V6"
      },
      "source": [
        "import pandas as pd\n",
        "import numpy as np\n",
        "import matplotlib.pyplot as plt\n",
        "import seaborn as sns"
      ],
      "execution_count": 32,
      "outputs": []
    },
    {
      "cell_type": "code",
      "metadata": {
        "id": "XitxpiYNLsu7"
      },
      "source": [
        "!wget https://s3-api.us-geo.objectstorage.softlayer.net/cf-courses-data/CognitiveClass/DA0101EN/automobileEDA.csv"
      ],
      "execution_count": null,
      "outputs": []
    },
    {
      "cell_type": "code",
      "metadata": {
        "id": "l5y2dFfML8aL"
      },
      "source": [
        "df = pd.read_csv(\"/content/automobileEDA.csv\")\n",
        "df.head()"
      ],
      "execution_count": null,
      "outputs": []
    },
    {
      "cell_type": "markdown",
      "metadata": {
        "id": "IPO8HAHtMJnB"
      },
      "source": [
        "### Linear Regression and Multiple Linear Regression"
      ]
    },
    {
      "cell_type": "markdown",
      "metadata": {
        "id": "-_DKN9Q0MR8B"
      },
      "source": [
        "#### Linear Regression"
      ]
    },
    {
      "cell_type": "markdown",
      "metadata": {
        "id": "MvwVMJR2MbI8"
      },
      "source": [
        "First we import the `LinearRegression` module from `sklearn.linear_model`:"
      ]
    },
    {
      "cell_type": "code",
      "metadata": {
        "id": "3PfNul7DMMkE"
      },
      "source": [
        "from sklearn.linear_model import LinearRegression"
      ],
      "execution_count": 5,
      "outputs": []
    },
    {
      "cell_type": "markdown",
      "metadata": {
        "id": "Rp8kb_mEMaBp"
      },
      "source": [
        "Then we create a linear regression object:"
      ]
    },
    {
      "cell_type": "code",
      "metadata": {
        "id": "KwJB-JlMMWaC"
      },
      "source": [
        "lm = LinearRegression()\n",
        "lm"
      ],
      "execution_count": null,
      "outputs": []
    },
    {
      "cell_type": "markdown",
      "metadata": {
        "id": "wO7krdBzMwAQ"
      },
      "source": [
        "We're going to see how the `highway-mpg` variable affects the price of the car."
      ]
    },
    {
      "cell_type": "code",
      "metadata": {
        "id": "U6PJOIrMMYva"
      },
      "source": [
        "X = df[['highway-mpg']]\n",
        "Y = df['price']"
      ],
      "execution_count": 7,
      "outputs": []
    },
    {
      "cell_type": "markdown",
      "metadata": {
        "id": "Dx9XTqRaM5LA"
      },
      "source": [
        "In the horizontal axis, or x-axis we have the independent variable, and in the vertical axis, or y-axis we have the target variable.\n",
        "\n",
        "Now we fit the linear model:"
      ]
    },
    {
      "cell_type": "code",
      "metadata": {
        "id": "p1mjfmBYM4pU",
        "outputId": "f9af4bfd-c285-45d0-9b30-9ac10cecfa65",
        "colab": {
          "base_uri": "https://localhost:8080/",
          "height": 35
        }
      },
      "source": [
        "lm.fit(X,Y)"
      ],
      "execution_count": 8,
      "outputs": [
        {
          "output_type": "execute_result",
          "data": {
            "text/plain": [
              "LinearRegression(copy_X=True, fit_intercept=True, n_jobs=None, normalize=False)"
            ]
          },
          "metadata": {
            "tags": []
          },
          "execution_count": 8
        }
      ]
    },
    {
      "cell_type": "markdown",
      "metadata": {
        "id": "5Km-Q5EjNVnQ"
      },
      "source": [
        "And with that we can make a prediction based off of the fit:"
      ]
    },
    {
      "cell_type": "code",
      "metadata": {
        "id": "kbHkcVAiNJwi",
        "outputId": "02ef5b29-6b03-473d-ac5a-da6c4884f315",
        "colab": {
          "base_uri": "https://localhost:8080/",
          "height": 54
        }
      },
      "source": [
        "Yhat=lm.predict(X)\n",
        "Yhat[0:5]   "
      ],
      "execution_count": 9,
      "outputs": [
        {
          "output_type": "execute_result",
          "data": {
            "text/plain": [
              "array([16236.50464347, 16236.50464347, 17058.23802179, 13771.3045085 ,\n",
              "       20345.17153508])"
            ]
          },
          "metadata": {
            "tags": []
          },
          "execution_count": 9
        }
      ]
    },
    {
      "cell_type": "markdown",
      "metadata": {
        "id": "Ig7OavuyNgg4"
      },
      "source": [
        "The following are the values for the a and b in our $y=a+bx$ equation"
      ]
    },
    {
      "cell_type": "code",
      "metadata": {
        "id": "83KjV0tUNT1h",
        "outputId": "56cdac0d-fd8b-4bf1-84b5-d6909ab117b0",
        "colab": {
          "base_uri": "https://localhost:8080/",
          "height": 35
        }
      },
      "source": [
        "lm.intercept_"
      ],
      "execution_count": 10,
      "outputs": [
        {
          "output_type": "execute_result",
          "data": {
            "text/plain": [
              "38423.3058581574"
            ]
          },
          "metadata": {
            "tags": []
          },
          "execution_count": 10
        }
      ]
    },
    {
      "cell_type": "code",
      "metadata": {
        "id": "Bgz87S2YNdu0",
        "outputId": "9b858eb5-dea9-4112-b647-79432a16e978",
        "colab": {
          "base_uri": "https://localhost:8080/",
          "height": 35
        }
      },
      "source": [
        "lm.coef_"
      ],
      "execution_count": 11,
      "outputs": [
        {
          "output_type": "execute_result",
          "data": {
            "text/plain": [
              "array([-821.73337832])"
            ]
          },
          "metadata": {
            "tags": []
          },
          "execution_count": 11
        }
      ]
    },
    {
      "cell_type": "markdown",
      "metadata": {
        "id": "7jWj6jfDNwfa"
      },
      "source": [
        "Putting them together we get:\n",
        ">$y=38423.31 - 821.73 x$"
      ]
    },
    {
      "cell_type": "markdown",
      "metadata": {
        "id": "TMDwQEDGN-9x"
      },
      "source": [
        "##### Exercise\n",
        "Create a linear regression object, train the model using `engine-size` as the independent variable and `price` as the dependent variable, find the equation."
      ]
    },
    {
      "cell_type": "code",
      "metadata": {
        "id": "SOc1uCtWNfRh",
        "outputId": "d965d583-72cd-4f1e-defd-63b33be003f4",
        "colab": {
          "base_uri": "https://localhost:8080/",
          "height": 35
        }
      },
      "source": [
        "lm1 = LinearRegression()\n",
        "lm1 "
      ],
      "execution_count": 12,
      "outputs": [
        {
          "output_type": "execute_result",
          "data": {
            "text/plain": [
              "LinearRegression(copy_X=True, fit_intercept=True, n_jobs=None, normalize=False)"
            ]
          },
          "metadata": {
            "tags": []
          },
          "execution_count": 12
        }
      ]
    },
    {
      "cell_type": "code",
      "metadata": {
        "id": "0oI8iSH5OW0Y"
      },
      "source": [
        "X = df[['engine-size']]\n",
        "Y = df['price']"
      ],
      "execution_count": 13,
      "outputs": []
    },
    {
      "cell_type": "code",
      "metadata": {
        "id": "78hg5iN6OV5R",
        "outputId": "b4dfdbbd-5837-4d3a-c8f5-f7d979e5a775",
        "colab": {
          "base_uri": "https://localhost:8080/",
          "height": 35
        }
      },
      "source": [
        "lm.fit(X,Y)"
      ],
      "execution_count": 15,
      "outputs": [
        {
          "output_type": "execute_result",
          "data": {
            "text/plain": [
              "LinearRegression(copy_X=True, fit_intercept=True, n_jobs=None, normalize=False)"
            ]
          },
          "metadata": {
            "tags": []
          },
          "execution_count": 15
        }
      ]
    },
    {
      "cell_type": "code",
      "metadata": {
        "id": "PhuwISMmOgII",
        "outputId": "4e255d5b-7b75-450c-ff94-73896d95f307",
        "colab": {
          "base_uri": "https://localhost:8080/",
          "height": 35
        }
      },
      "source": [
        "lm.intercept_\n"
      ],
      "execution_count": 18,
      "outputs": [
        {
          "output_type": "execute_result",
          "data": {
            "text/plain": [
              "-7963.338906281042"
            ]
          },
          "metadata": {
            "tags": []
          },
          "execution_count": 18
        }
      ]
    },
    {
      "cell_type": "code",
      "metadata": {
        "id": "UDSIR1V_OmZZ",
        "outputId": "7a23a772-40c3-4b1e-8ea2-17216b30e15f",
        "colab": {
          "base_uri": "https://localhost:8080/",
          "height": 35
        }
      },
      "source": [
        "lm.coef_"
      ],
      "execution_count": 17,
      "outputs": [
        {
          "output_type": "execute_result",
          "data": {
            "text/plain": [
              "array([166.86001569])"
            ]
          },
          "metadata": {
            "tags": []
          },
          "execution_count": 17
        }
      ]
    },
    {
      "cell_type": "markdown",
      "metadata": {
        "id": "nPHCHox-OtXa"
      },
      "source": [
        "With that information, we can conclude that the equation is:\n",
        ">$y=-7963.34 + 166.86 x$"
      ]
    },
    {
      "cell_type": "markdown",
      "metadata": {
        "id": "2gYNEbNdPDFP"
      },
      "source": [
        "#### Multiple Linear Regression"
      ]
    },
    {
      "cell_type": "markdown",
      "metadata": {
        "id": "OfvE9LSSPO0x"
      },
      "source": [
        "Now to do the same using the following variables:\n",
        "* Horsepower\n",
        "* Curb-weight\n",
        "* Engine-size\n",
        "* Highway-mpg\n",
        "\n",
        "We put them all in the same variable:\n"
      ]
    },
    {
      "cell_type": "code",
      "metadata": {
        "id": "ajzFzeqpOo9P"
      },
      "source": [
        "Z = df[['horsepower', 'curb-weight', 'engine-size', 'highway-mpg']]"
      ],
      "execution_count": 21,
      "outputs": []
    },
    {
      "cell_type": "markdown",
      "metadata": {
        "id": "oaCqVGfaPfqO"
      },
      "source": [
        "And fit them with the target variable:"
      ]
    },
    {
      "cell_type": "code",
      "metadata": {
        "id": "lKop8cdcPe2X",
        "outputId": "826767a8-50d4-4ee0-afbe-8e6ca9a423e1",
        "colab": {
          "base_uri": "https://localhost:8080/",
          "height": 35
        }
      },
      "source": [
        "lm.fit(Z,df['price'])"
      ],
      "execution_count": 23,
      "outputs": [
        {
          "output_type": "execute_result",
          "data": {
            "text/plain": [
              "LinearRegression(copy_X=True, fit_intercept=True, n_jobs=None, normalize=False)"
            ]
          },
          "metadata": {
            "tags": []
          },
          "execution_count": 23
        }
      ]
    },
    {
      "cell_type": "markdown",
      "metadata": {
        "id": "Fkiw9NGFP4Cj"
      },
      "source": [
        "Now for our intercept and coeficients:"
      ]
    },
    {
      "cell_type": "code",
      "metadata": {
        "id": "ioH4LpmMPump",
        "outputId": "82530752-ccaf-4d9a-8c98-2612c1532a43",
        "colab": {
          "base_uri": "https://localhost:8080/",
          "height": 35
        }
      },
      "source": [
        "lm.intercept_"
      ],
      "execution_count": 24,
      "outputs": [
        {
          "output_type": "execute_result",
          "data": {
            "text/plain": [
              "-15806.62462632922"
            ]
          },
          "metadata": {
            "tags": []
          },
          "execution_count": 24
        }
      ]
    },
    {
      "cell_type": "code",
      "metadata": {
        "id": "1Ko98iIrP11P",
        "outputId": "538002d3-64a3-4a10-bbe9-03a894d836b5",
        "colab": {
          "base_uri": "https://localhost:8080/",
          "height": 35
        }
      },
      "source": [
        "lm.coef_"
      ],
      "execution_count": 25,
      "outputs": [
        {
          "output_type": "execute_result",
          "data": {
            "text/plain": [
              "array([53.49574423,  4.70770099, 81.53026382, 36.05748882])"
            ]
          },
          "metadata": {
            "tags": []
          },
          "execution_count": 25
        }
      ]
    },
    {
      "cell_type": "markdown",
      "metadata": {
        "id": "mOTwk7K4QIPG"
      },
      "source": [
        "The resulting equation will have the coeficients from `lm.coef_` multiplying the variables in the order they were inserted in `Z`:\n",
        "\n",
        ">$Price = -15678.742628061467 + 52.65851272horsepower + 4.69878948curbweight + 81.95906216enginesize + 33.58258185highwaympg\n",
        "$"
      ]
    },
    {
      "cell_type": "markdown",
      "metadata": {
        "id": "2is9rs8YQr4d"
      },
      "source": [
        "##### Exercise\n",
        "Create another regression object `lm2` that will make the same process as above but with `price`as the target and `normalized-losses` and `highway-mpg` are the predictor variables."
      ]
    },
    {
      "cell_type": "code",
      "metadata": {
        "id": "0r79Hy3rP3K0",
        "outputId": "f9bdf1ee-8c28-49db-8193-706d42b411fb",
        "colab": {
          "base_uri": "https://localhost:8080/",
          "height": 35
        }
      },
      "source": [
        "lm2 = LinearRegression()\n",
        "lm"
      ],
      "execution_count": 26,
      "outputs": [
        {
          "output_type": "execute_result",
          "data": {
            "text/plain": [
              "LinearRegression(copy_X=True, fit_intercept=True, n_jobs=None, normalize=False)"
            ]
          },
          "metadata": {
            "tags": []
          },
          "execution_count": 26
        }
      ]
    },
    {
      "cell_type": "code",
      "metadata": {
        "id": "LWxUX4KdRJ1d"
      },
      "source": [
        "Z = df[['normalized-losses','highway-mpg']]"
      ],
      "execution_count": 27,
      "outputs": []
    },
    {
      "cell_type": "code",
      "metadata": {
        "id": "yTkK8wfZRVBt",
        "outputId": "5f49ab56-7f79-496b-aa92-172426ee75ae",
        "colab": {
          "base_uri": "https://localhost:8080/",
          "height": 35
        }
      },
      "source": [
        "lm2.fit(Z,df['price'])"
      ],
      "execution_count": 28,
      "outputs": [
        {
          "output_type": "execute_result",
          "data": {
            "text/plain": [
              "LinearRegression(copy_X=True, fit_intercept=True, n_jobs=None, normalize=False)"
            ]
          },
          "metadata": {
            "tags": []
          },
          "execution_count": 28
        }
      ]
    },
    {
      "cell_type": "code",
      "metadata": {
        "id": "FltN-D00Raf9",
        "outputId": "1ee96323-dafc-43d6-e554-61607bdaeb00",
        "colab": {
          "base_uri": "https://localhost:8080/",
          "height": 35
        }
      },
      "source": [
        "lm2.intercept_"
      ],
      "execution_count": 29,
      "outputs": [
        {
          "output_type": "execute_result",
          "data": {
            "text/plain": [
              "38201.31327245728"
            ]
          },
          "metadata": {
            "tags": []
          },
          "execution_count": 29
        }
      ]
    },
    {
      "cell_type": "code",
      "metadata": {
        "id": "ws3Ry3P7RfXV",
        "outputId": "81a82170-c99e-4535-e864-b887e96aa3c5",
        "colab": {
          "base_uri": "https://localhost:8080/",
          "height": 35
        }
      },
      "source": [
        "lm2.coef_"
      ],
      "execution_count": 30,
      "outputs": [
        {
          "output_type": "execute_result",
          "data": {
            "text/plain": [
              "array([   1.49789586, -820.45434016])"
            ]
          },
          "metadata": {
            "tags": []
          },
          "execution_count": 30
        }
      ]
    },
    {
      "cell_type": "markdown",
      "metadata": {
        "id": "EdU9FIqYRki3"
      },
      "source": [
        "Resulting in the equation:\n",
        ">$Price = 38201.31 + 1.5 normalizedlosses - 820.45 highwaympg$"
      ]
    },
    {
      "cell_type": "markdown",
      "metadata": {
        "id": "ECZqRZA7R9_D"
      },
      "source": [
        "### Model Evaluation using Visualization"
      ]
    },
    {
      "cell_type": "markdown",
      "metadata": {
        "id": "P-7KJJtvSA0l"
      },
      "source": [
        "#### Regression Plot\n",
        "A good way of visualizing linear regression is to put it into a regression plot. It will show a combination of the scaterred data as dots and the line that was produced."
      ]
    },
    {
      "cell_type": "code",
      "metadata": {
        "id": "SyakcfzJRhft",
        "outputId": "9ee8857c-5b17-48f0-f9a0-15481c6b5879",
        "colab": {
          "base_uri": "https://localhost:8080/",
          "height": 624
        }
      },
      "source": [
        "width = 12\n",
        "height = 10\n",
        "plt.figure(figsize=(width, height))\n",
        "sns.regplot(x=\"highway-mpg\", y=\"price\", data=df)\n",
        "plt.ylim(0,)"
      ],
      "execution_count": 33,
      "outputs": [
        {
          "output_type": "execute_result",
          "data": {
            "text/plain": [
              "(0.0, 48171.417902656845)"
            ]
          },
          "metadata": {
            "tags": []
          },
          "execution_count": 33
        },
        {
          "output_type": "display_data",
          "data": {
            "image/png": "[encoded data removed]",
            "text/plain": [
              "<Figure size 864x720 with 1 Axes>"
            ]
          },
          "metadata": {
            "tags": [],
            "needs_background": "light"
          }
        }
      ]
    },
    {
      "cell_type": "markdown",
      "metadata": {
        "id": "Nvp-KheQSuCD"
      },
      "source": [
        "From the plot, it is possible to see that `price` and `highway-mpg` are negatively correlated. Let's compare it to the `peak-rpm` and `price` plot."
      ]
    },
    {
      "cell_type": "code",
      "metadata": {
        "id": "B8cGSZyfSiCs",
        "outputId": "e0416702-3fa3-4d74-f072-2b33445e1b51",
        "colab": {
          "base_uri": "https://localhost:8080/",
          "height": 624
        }
      },
      "source": [
        "plt.figure(figsize=(width, height))\n",
        "sns.regplot(x=\"peak-rpm\", y=\"price\", data=df)\n",
        "plt.ylim(0,)"
      ],
      "execution_count": 34,
      "outputs": [
        {
          "output_type": "execute_result",
          "data": {
            "text/plain": [
              "(0.0, 47414.1)"
            ]
          },
          "metadata": {
            "tags": []
          },
          "execution_count": 34
        },
        {
          "output_type": "display_data",
          "data": {
            "image/png": "[encoded data removed]",
            "text/plain": [
              "<Figure size 864x720 with 1 Axes>"
            ]
          },
          "metadata": {
            "tags": [],
            "needs_background": "light"
          }
        }
      ]
    },
    {
      "cell_type": "markdown",
      "metadata": {
        "id": "tHn1SQ4sTJyC"
      },
      "source": [
        "As we can see, the dots for `highway-mpg`are much closer to the line than the ones for `peak-rpm`, this means that linear regression is a much better fit in the first plot, than in the second. And we can clearly see that by checking the correlation between them, where `highway-mph` gives a number much closer to one than `peak-rpm`."
      ]
    },
    {
      "cell_type": "code",
      "metadata": {
        "id": "n7KP_LcbTE_s",
        "outputId": "3a760c6a-3500-41fb-ae3c-9ff04cc2f019",
        "colab": {
          "base_uri": "https://localhost:8080/",
          "height": 143
        }
      },
      "source": [
        "df[['highway-mpg','peak-rpm','price']].corr()"
      ],
      "execution_count": 36,
      "outputs": [
        {
          "output_type": "execute_result",
          "data": {
            "text/html": [
              "<div>\n",
              "<style scoped>\n",
              "    .dataframe tbody tr th:only-of-type {\n",
              "        vertical-align: middle;\n",
              "    }\n",
              "\n",
              "    .dataframe tbody tr th {\n",
              "        vertical-align: top;\n",
              "    }\n",
              "\n",
              "    .dataframe thead th {\n",
              "        text-align: right;\n",
              "    }\n",
              "</style>\n",
              "<table border=\"1\" class=\"dataframe\">\n",
              "  <thead>\n",
              "    <tr style=\"text-align: right;\">\n",
              "      <th></th>\n",
              "      <th>highway-mpg</th>\n",
              "      <th>peak-rpm</th>\n",
              "      <th>price</th>\n",
              "    </tr>\n",
              "  </thead>\n",
              "  <tbody>\n",
              "    <tr>\n",
              "      <th>highway-mpg</th>\n",
              "      <td>1.000000</td>\n",
              "      <td>-0.058598</td>\n",
              "      <td>-0.704692</td>\n",
              "    </tr>\n",
              "    <tr>\n",
              "      <th>peak-rpm</th>\n",
              "      <td>-0.058598</td>\n",
              "      <td>1.000000</td>\n",
              "      <td>-0.101616</td>\n",
              "    </tr>\n",
              "    <tr>\n",
              "      <th>price</th>\n",
              "      <td>-0.704692</td>\n",
              "      <td>-0.101616</td>\n",
              "      <td>1.000000</td>\n",
              "    </tr>\n",
              "  </tbody>\n",
              "</table>\n",
              "</div>"
            ],
            "text/plain": [
              "             highway-mpg  peak-rpm     price\n",
              "highway-mpg     1.000000 -0.058598 -0.704692\n",
              "peak-rpm       -0.058598  1.000000 -0.101616\n",
              "price          -0.704692 -0.101616  1.000000"
            ]
          },
          "metadata": {
            "tags": []
          },
          "execution_count": 36
        }
      ]
    },
    {
      "cell_type": "markdown",
      "metadata": {
        "id": "sRZSR3pgUP5B"
      },
      "source": [
        "#### Residual Plot\n",
        "A great way to visualize the variance of data. Here we must look at the spread of the residue from the predicted values and the actual values."
      ]
    },
    {
      "cell_type": "code",
      "metadata": {
        "id": "c-wOQr82Tr7z",
        "outputId": "241c28b8-3b3e-4f4f-fb3a-b7e63cb891bd",
        "colab": {
          "base_uri": "https://localhost:8080/",
          "height": 606
        }
      },
      "source": [
        "width = 12\n",
        "height = 10\n",
        "plt.figure(figsize=(width, height))\n",
        "sns.residplot(x=df['highway-mpg'], y=df['price'])\n",
        "plt.show()"
      ],
      "execution_count": 49,
      "outputs": [
        {
          "output_type": "display_data",
          "data": {
            "image/png": "[encoded data removed]",
            "text/plain": [
              "<Figure size 864x720 with 1 Axes>"
            ]
          },
          "metadata": {
            "tags": [],
            "needs_background": "light"
          }
        }
      ]
    },
    {
      "cell_type": "markdown",
      "metadata": {
        "id": "5B6Wlt86UqYL"
      },
      "source": [
        "Since the plots are not randomly spread out around the x-axis, the linear model is not a good fit for this data."
      ]
    },
    {
      "cell_type": "markdown",
      "metadata": {
        "id": "z_4ETOSxVAro"
      },
      "source": [
        "#### Multiple Linear Regression\n",
        "A good way of visualizing MLR is with the use of the use of distribution plots."
      ]
    },
    {
      "cell_type": "code",
      "metadata": {
        "id": "zuUFn98BUmEC"
      },
      "source": [
        "Z = df[['horsepower', 'curb-weight', 'engine-size', 'highway-mpg']]"
      ],
      "execution_count": 38,
      "outputs": []
    },
    {
      "cell_type": "code",
      "metadata": {
        "id": "sYtQKoyrVOlC"
      },
      "source": [
        "Y_hat = lm.predict(Z)"
      ],
      "execution_count": 39,
      "outputs": []
    },
    {
      "cell_type": "code",
      "metadata": {
        "id": "J8Gd1CgoVQKZ",
        "outputId": "3bdc44f6-877a-4e43-b674-8aa387e16c0a",
        "colab": {
          "base_uri": "https://localhost:8080/",
          "height": 406
        }
      },
      "source": [
        "plt.figure(figsize=(width, height))\n",
        "\n",
        "\n",
        "sns.displot([df['price'],Y_hat],kind='kde')\n",
        "\n",
        "\n",
        "plt.title('Actual vs Fitted Values for Price')\n",
        "plt.xlabel('Price (in dollars)')\n",
        "plt.ylabel('Proportion of Cars')\n",
        "\n",
        "plt.show()\n",
        "plt.close()"
      ],
      "execution_count": 62,
      "outputs": [
        {
          "output_type": "display_data",
          "data": {
            "text/plain": [
              "<Figure size 864x720 with 0 Axes>"
            ]
          },
          "metadata": {
            "tags": []
          }
        },
        {
          "output_type": "display_data",
          "data": {
            "image/png": "[encoded data removed]",
            "text/plain": [
              "<Figure size 420.875x360 with 1 Axes>"
            ]
          },
          "metadata": {
            "tags": [],
            "needs_background": "light"
          }
        }
      ]
    },
    {
      "cell_type": "markdown",
      "metadata": {
        "id": "3Q9L8OjfaL-1"
      },
      "source": [
        "### Polynomial Regression and Pipelines\n",
        "It is possible to get non-linear relationships by increasing the order of your predictor variables."
      ]
    },
    {
      "cell_type": "markdown",
      "metadata": {
        "id": "JMmQhW8tbjta"
      },
      "source": [
        "#### Polynomial Regression"
      ]
    },
    {
      "cell_type": "markdown",
      "metadata": {
        "id": "h7ftvh5_cheS"
      },
      "source": [
        "##### 1 Feature Polynomial"
      ]
    },
    {
      "cell_type": "code",
      "metadata": {
        "id": "VwV9qW0_aYls"
      },
      "source": [
        "def PlotPolly(model, independent_variable, dependent_variabble, Name):\n",
        "    x_new = np.linspace(15, 55, 100)\n",
        "    y_new = model(x_new)\n",
        "\n",
        "    plt.plot(independent_variable, dependent_variabble, '.', x_new, y_new, '-')\n",
        "    plt.title('Polynomial Fit with Matplotlib for Price ~ Length')\n",
        "    ax = plt.gca()\n",
        "    ax.set_facecolor((0.898, 0.898, 0.898))\n",
        "    fig = plt.gcf()\n",
        "    plt.xlabel(Name)\n",
        "    plt.ylabel('Price of Cars')\n",
        "\n",
        "    plt.show()\n",
        "    plt.close()"
      ],
      "execution_count": 64,
      "outputs": []
    },
    {
      "cell_type": "code",
      "metadata": {
        "id": "pvhLN3BYa5Bd"
      },
      "source": [
        "x = df['highway-mpg']\n",
        "y = df['price']"
      ],
      "execution_count": 65,
      "outputs": []
    },
    {
      "cell_type": "code",
      "metadata": {
        "id": "V5JyX3Aba76X",
        "outputId": "76cb6404-a932-4c49-9b7a-6e962e7257d2",
        "colab": {
          "base_uri": "https://localhost:8080/",
          "height": 54
        }
      },
      "source": [
        "f = np.polyfit(x, y, 3)\n",
        "p = np.poly1d(f)\n",
        "print(p)"
      ],
      "execution_count": 66,
      "outputs": [
        {
          "output_type": "stream",
          "text": [
            "        3         2\n",
            "-1.557 x + 204.8 x - 8965 x + 1.379e+05\n"
          ],
          "name": "stdout"
        }
      ]
    },
    {
      "cell_type": "code",
      "metadata": {
        "id": "I3VQJon2a-G1",
        "outputId": "58e35994-3b50-45ef-c9c2-35d138d5dde1",
        "colab": {
          "base_uri": "https://localhost:8080/",
          "height": 295
        }
      },
      "source": [
        "PlotPolly(p, x, y, 'highway-mpg')"
      ],
      "execution_count": 67,
      "outputs": [
        {
          "output_type": "display_data",
          "data": {
            "image/png": "[encoded data removed]",
            "text/plain": [
              "<Figure size 432x288 with 1 Axes>"
            ]
          },
          "metadata": {
            "tags": [],
            "needs_background": "light"
          }
        }
      ]
    },
    {
      "cell_type": "code",
      "metadata": {
        "id": "HS7_mpQVbBwc",
        "outputId": "1d233b4f-b5b9-4ee0-c30a-87110dc4e86d",
        "colab": {
          "base_uri": "https://localhost:8080/",
          "height": 35
        }
      },
      "source": [
        "np.polyfit(x, y, 3)"
      ],
      "execution_count": 68,
      "outputs": [
        {
          "output_type": "execute_result",
          "data": {
            "text/plain": [
              "array([-1.55663829e+00,  2.04754306e+02, -8.96543312e+03,  1.37923594e+05])"
            ]
          },
          "metadata": {
            "tags": []
          },
          "execution_count": 68
        }
      ]
    },
    {
      "cell_type": "markdown",
      "metadata": {
        "id": "OhYvC_YEbfkj"
      },
      "source": [
        "##### Exercise\n",
        "Make a polynomial of the 11th order using `x` and `y` from above."
      ]
    },
    {
      "cell_type": "code",
      "metadata": {
        "id": "Vl-hnFxEb88c",
        "outputId": "7e989f49-f469-4f21-a86b-a865d8269965",
        "colab": {
          "base_uri": "https://localhost:8080/",
          "height": 72
        }
      },
      "source": [
        "f= np.polyfit(x,y,11)\n",
        "p=np.poly1d(f)\n",
        "p"
      ],
      "execution_count": 72,
      "outputs": [
        {
          "output_type": "execute_result",
          "data": {
            "text/plain": [
              "poly1d([-1.24263391e-08,  4.72184893e-06, -8.02843483e-04,  8.05640304e-02,\n",
              "       -5.29740982e+00,  2.39470329e+02, -7.58845740e+03,  1.68447254e+05,\n",
              "       -2.56531153e+06,  2.55140622e+07, -1.49106965e+08,  3.87930088e+08])"
            ]
          },
          "metadata": {
            "tags": []
          },
          "execution_count": 72
        }
      ]
    },
    {
      "cell_type": "code",
      "metadata": {
        "id": "pv8MIqX2cS8K",
        "outputId": "499d16ad-1862-47ec-e2c6-c30aa2fa5d58",
        "colab": {
          "base_uri": "https://localhost:8080/",
          "height": 295
        }
      },
      "source": [
        "PlotPolly(p, x, y, 'highway-mpg')"
      ],
      "execution_count": 73,
      "outputs": [
        {
          "output_type": "display_data",
          "data": {
            "image/png": "[encoded data removed]",
            "text/plain": [
              "<Figure size 432x288 with 1 Axes>"
            ]
          },
          "metadata": {
            "tags": [],
            "needs_background": "light"
          }
        }
      ]
    },
    {
      "cell_type": "markdown",
      "metadata": {
        "id": "n7QqEYCVcSbg"
      },
      "source": [
        "##### More Features\n",
        "The process to create a polynomial function with more than one feature is the following:"
      ]
    },
    {
      "cell_type": "code",
      "metadata": {
        "id": "-cDeaoX1cxwx"
      },
      "source": [
        "from sklearn.preprocessing import PolynomialFeatures"
      ],
      "execution_count": 74,
      "outputs": []
    },
    {
      "cell_type": "code",
      "metadata": {
        "id": "eYXVy32Dc_wL",
        "outputId": "ba673850-77fa-4678-9259-bd088e445328",
        "colab": {
          "base_uri": "https://localhost:8080/",
          "height": 54
        }
      },
      "source": [
        "pr=PolynomialFeatures(degree=2)\n",
        "pr"
      ],
      "execution_count": 75,
      "outputs": [
        {
          "output_type": "execute_result",
          "data": {
            "text/plain": [
              "PolynomialFeatures(degree=2, include_bias=True, interaction_only=False,\n",
              "                   order='C')"
            ]
          },
          "metadata": {
            "tags": []
          },
          "execution_count": 75
        }
      ]
    },
    {
      "cell_type": "code",
      "metadata": {
        "id": "-PO30fEEdCJr"
      },
      "source": [
        "Z_pr=pr.fit_transform(Z)"
      ],
      "execution_count": 76,
      "outputs": []
    },
    {
      "cell_type": "code",
      "metadata": {
        "id": "g9F4j6kUdDwj",
        "outputId": "72c9dbfd-50a2-444c-8cff-f0faa22a11bc",
        "colab": {
          "base_uri": "https://localhost:8080/",
          "height": 35
        }
      },
      "source": [
        "Z.shape"
      ],
      "execution_count": 77,
      "outputs": [
        {
          "output_type": "execute_result",
          "data": {
            "text/plain": [
              "(201, 4)"
            ]
          },
          "metadata": {
            "tags": []
          },
          "execution_count": 77
        }
      ]
    },
    {
      "cell_type": "code",
      "metadata": {
        "id": "3CPsDp4odFNy",
        "outputId": "66aee612-a2ff-4133-b7e8-4ea000c20f57",
        "colab": {
          "base_uri": "https://localhost:8080/",
          "height": 35
        }
      },
      "source": [
        "Z_pr.shape"
      ],
      "execution_count": 78,
      "outputs": [
        {
          "output_type": "execute_result",
          "data": {
            "text/plain": [
              "(201, 15)"
            ]
          },
          "metadata": {
            "tags": []
          },
          "execution_count": 78
        }
      ]
    },
    {
      "cell_type": "markdown",
      "metadata": {
        "id": "viiIYMZ0dyZJ"
      },
      "source": [
        "#### Pipeline\n",
        "Pipelines simplify the steps of processing data."
      ]
    },
    {
      "cell_type": "code",
      "metadata": {
        "id": "4XUKjOB8dHrX"
      },
      "source": [
        "from sklearn.pipeline import Pipeline\n",
        "from sklearn.preprocessing import StandardScaler"
      ],
      "execution_count": 79,
      "outputs": []
    },
    {
      "cell_type": "markdown",
      "metadata": {
        "id": "vhCO-2iGeHEo"
      },
      "source": [
        "We create the pipeline, by creating a list of tuples including the name of the model or estimator and its corresponding constructor, that way, we can make as many transformations as desired."
      ]
    },
    {
      "cell_type": "code",
      "metadata": {
        "id": "E0AvKXwfd1N6"
      },
      "source": [
        "Input=[('scale',StandardScaler()), ('polynomial', PolynomialFeatures(include_bias=False)), ('model',LinearRegression())]"
      ],
      "execution_count": 81,
      "outputs": []
    },
    {
      "cell_type": "code",
      "metadata": {
        "id": "YG_4oqqjeJq7",
        "outputId": "3e853012-c95e-4887-e412-1e21ca57106e",
        "colab": {
          "base_uri": "https://localhost:8080/",
          "height": 201
        }
      },
      "source": [
        "pipe=Pipeline(Input)\n",
        "pipe"
      ],
      "execution_count": 82,
      "outputs": [
        {
          "output_type": "execute_result",
          "data": {
            "text/plain": [
              "Pipeline(memory=None,\n",
              "         steps=[('scale',\n",
              "                 StandardScaler(copy=True, with_mean=True, with_std=True)),\n",
              "                ('polynomial',\n",
              "                 PolynomialFeatures(degree=2, include_bias=False,\n",
              "                                    interaction_only=False, order='C')),\n",
              "                ('model',\n",
              "                 LinearRegression(copy_X=True, fit_intercept=True, n_jobs=None,\n",
              "                                  normalize=False))],\n",
              "         verbose=False)"
            ]
          },
          "metadata": {
            "tags": []
          },
          "execution_count": 82
        }
      ]
    },
    {
      "cell_type": "code",
      "metadata": {
        "id": "3Mt1NqnEeJ9r",
        "outputId": "d3a8b96c-7aaa-4ca3-e6c7-1de6495bb8f3",
        "colab": {
          "base_uri": "https://localhost:8080/",
          "height": 201
        }
      },
      "source": [
        "pipe.fit(Z,y)"
      ],
      "execution_count": 83,
      "outputs": [
        {
          "output_type": "execute_result",
          "data": {
            "text/plain": [
              "Pipeline(memory=None,\n",
              "         steps=[('scale',\n",
              "                 StandardScaler(copy=True, with_mean=True, with_std=True)),\n",
              "                ('polynomial',\n",
              "                 PolynomialFeatures(degree=2, include_bias=False,\n",
              "                                    interaction_only=False, order='C')),\n",
              "                ('model',\n",
              "                 LinearRegression(copy_X=True, fit_intercept=True, n_jobs=None,\n",
              "                                  normalize=False))],\n",
              "         verbose=False)"
            ]
          },
          "metadata": {
            "tags": []
          },
          "execution_count": 83
        }
      ]
    },
    {
      "cell_type": "code",
      "metadata": {
        "id": "qJ1yfwA7eehB",
        "outputId": "414a0a03-3aed-46cc-e69d-ddbe00f23c6a",
        "colab": {
          "base_uri": "https://localhost:8080/",
          "height": 35
        }
      },
      "source": [
        "ypipe=pipe.predict(Z)\n",
        "ypipe[0:4]"
      ],
      "execution_count": 84,
      "outputs": [
        {
          "output_type": "execute_result",
          "data": {
            "text/plain": [
              "array([13102.74784201, 13102.74784201, 18225.54572197, 10390.29636555])"
            ]
          },
          "metadata": {
            "tags": []
          },
          "execution_count": 84
        }
      ]
    },
    {
      "cell_type": "markdown",
      "metadata": {
        "id": "bXhUApQlei2Y"
      },
      "source": [
        "##### Exercise"
      ]
    },
    {
      "cell_type": "code",
      "metadata": {
        "id": "4AMKCx6XehdC",
        "outputId": "a3a3de71-7003-4643-fb24-f52162de8367",
        "colab": {
          "base_uri": "https://localhost:8080/",
          "height": 72
        }
      },
      "source": [
        "Input=[('scale',StandardScaler()),('model',LinearRegression())]\n",
        "\n",
        "pipe=Pipeline(Input)\n",
        "\n",
        "pipe.fit(Z,y)\n",
        "\n",
        "ypipe=pipe.predict(Z)\n",
        "ypipe[0:10]"
      ],
      "execution_count": 85,
      "outputs": [
        {
          "output_type": "execute_result",
          "data": {
            "text/plain": [
              "array([13699.11161184, 13699.11161184, 19051.65470233, 10620.36193015,\n",
              "       15521.31420211, 13869.66673213, 15456.16196732, 15974.00907672,\n",
              "       17612.35917161, 10722.32509097])"
            ]
          },
          "metadata": {
            "tags": []
          },
          "execution_count": 85
        }
      ]
    },
    {
      "cell_type": "markdown",
      "metadata": {
        "id": "8_O0Ss1Pff94"
      },
      "source": [
        "### Measures for In-Sample Evaluation\n",
        "When evaluating models we not only want to visualize the data, but also a numerical way of telling its accuracy, such as $R^2$ and MSE.\n",
        "\n",
        "$R^2$ is the measure of how close the data is to the fitted regression line.\n",
        "\n",
        "For MSE we make a prediction and then see the difference between the predicted value and the actual value."
      ]
    },
    {
      "cell_type": "markdown",
      "metadata": {
        "id": "a4v6MRg9gnaL"
      },
      "source": [
        "##### Simple Linear Regression\n"
      ]
    },
    {
      "cell_type": "markdown",
      "metadata": {
        "id": "I_pNZch3hkoO"
      },
      "source": [
        "###### $R^2$"
      ]
    },
    {
      "cell_type": "code",
      "metadata": {
        "id": "L5wMudSzfYnA",
        "outputId": "7961f333-d912-4057-cd6c-a193de7111fe",
        "colab": {
          "base_uri": "https://localhost:8080/",
          "height": 35
        }
      },
      "source": [
        "lm.fit(X, Y)\n",
        "lm.score(X,Y)"
      ],
      "execution_count": 88,
      "outputs": [
        {
          "output_type": "execute_result",
          "data": {
            "text/plain": [
              "0.7609686443622008"
            ]
          },
          "metadata": {
            "tags": []
          },
          "execution_count": 88
        }
      ]
    },
    {
      "cell_type": "markdown",
      "metadata": {
        "id": "Lo-Qef_jhob0"
      },
      "source": [
        "###### MSE"
      ]
    },
    {
      "cell_type": "code",
      "metadata": {
        "id": "XUTkj7gfhU7-",
        "outputId": "affbb48a-09a4-407c-d6f1-925378bfffd9",
        "colab": {
          "base_uri": "https://localhost:8080/",
          "height": 35
        }
      },
      "source": [
        "Yhat=lm.predict(X)\n",
        "Yhat[0:4]"
      ],
      "execution_count": 89,
      "outputs": [
        {
          "output_type": "execute_result",
          "data": {
            "text/plain": [
              "array([13728.4631336 , 13728.4631336 , 17399.38347881, 10224.40280408])"
            ]
          },
          "metadata": {
            "tags": []
          },
          "execution_count": 89
        }
      ]
    },
    {
      "cell_type": "code",
      "metadata": {
        "id": "--CJspDDhtno"
      },
      "source": [
        "from sklearn.metrics import mean_squared_error"
      ],
      "execution_count": 90,
      "outputs": []
    },
    {
      "cell_type": "code",
      "metadata": {
        "id": "rLVZJreahwsw",
        "outputId": "20ba3aa4-b67b-4a78-a22c-cbb663c79b26",
        "colab": {
          "base_uri": "https://localhost:8080/",
          "height": 35
        }
      },
      "source": [
        "mse = mean_squared_error(df['price'], Yhat)\n",
        "mse"
      ],
      "execution_count": 91,
      "outputs": [
        {
          "output_type": "execute_result",
          "data": {
            "text/plain": [
              "15021126.025174143"
            ]
          },
          "metadata": {
            "tags": []
          },
          "execution_count": 91
        }
      ]
    },
    {
      "cell_type": "markdown",
      "metadata": {
        "id": "oqosdbwtiAzt"
      },
      "source": [
        "#### Multiple Linear Regression"
      ]
    },
    {
      "cell_type": "markdown",
      "metadata": {
        "id": "5Zl2tTY7iXs1"
      },
      "source": [
        "#####$R^2$"
      ]
    },
    {
      "cell_type": "code",
      "metadata": {
        "id": "qSUWzS_9hz7y",
        "outputId": "8987ec39-310c-4947-9bfa-097cde8929f4",
        "colab": {
          "base_uri": "https://localhost:8080/",
          "height": 35
        }
      },
      "source": [
        "lm.fit(Z, df['price'])\n",
        "lm.score(Z, df['price'])"
      ],
      "execution_count": 92,
      "outputs": [
        {
          "output_type": "execute_result",
          "data": {
            "text/plain": [
              "0.8093562806577457"
            ]
          },
          "metadata": {
            "tags": []
          },
          "execution_count": 92
        }
      ]
    },
    {
      "cell_type": "markdown",
      "metadata": {
        "id": "IE5f8mLmidS-"
      },
      "source": [
        "#####MSE"
      ]
    },
    {
      "cell_type": "code",
      "metadata": {
        "id": "NoevsioqiKmt"
      },
      "source": [
        "Y_predict_multifit = lm.predict(Z)"
      ],
      "execution_count": 95,
      "outputs": []
    },
    {
      "cell_type": "code",
      "metadata": {
        "id": "FLutMQKGiM4N",
        "outputId": "6c0a2cd1-09c9-4349-e88d-45c72a365e83",
        "colab": {
          "base_uri": "https://localhost:8080/",
          "height": 35
        }
      },
      "source": [
        "mean_squared_error(df['price'], Y_predict_multifit)"
      ],
      "execution_count": 94,
      "outputs": [
        {
          "output_type": "execute_result",
          "data": {
            "text/plain": [
              "11980366.87072649"
            ]
          },
          "metadata": {
            "tags": []
          },
          "execution_count": 94
        }
      ]
    },
    {
      "cell_type": "markdown",
      "metadata": {
        "id": "zRcoVL_hkbmS"
      },
      "source": [
        "#### Polynomial Fit"
      ]
    },
    {
      "cell_type": "markdown",
      "metadata": {
        "id": "MknxndMSlTex"
      },
      "source": [
        "###### $R^2$"
      ]
    },
    {
      "cell_type": "code",
      "metadata": {
        "id": "OBY1GqQRiQd2"
      },
      "source": [
        "from sklearn.metrics import r2_score"
      ],
      "execution_count": 96,
      "outputs": []
    },
    {
      "cell_type": "code",
      "metadata": {
        "id": "Oy4gF8Enk7KW",
        "outputId": "8b5af38f-827f-43db-cac2-5a953ca22318",
        "colab": {
          "base_uri": "https://localhost:8080/",
          "height": 35
        }
      },
      "source": [
        "r_squared = r2_score(y, p(x))\n",
        "r_squared"
      ],
      "execution_count": 97,
      "outputs": [
        {
          "output_type": "execute_result",
          "data": {
            "text/plain": [
              "0.7023769093756598"
            ]
          },
          "metadata": {
            "tags": []
          },
          "execution_count": 97
        }
      ]
    },
    {
      "cell_type": "markdown",
      "metadata": {
        "id": "63BKHEczlmkX"
      },
      "source": [
        "#####MSE"
      ]
    },
    {
      "cell_type": "code",
      "metadata": {
        "id": "TvHws1LZk9Oq",
        "outputId": "5839a0dd-50d9-4e80-e0b5-89506f8cbb22",
        "colab": {
          "base_uri": "https://localhost:8080/",
          "height": 35
        }
      },
      "source": [
        "mean_squared_error(df['price'], p(x))"
      ],
      "execution_count": 98,
      "outputs": [
        {
          "output_type": "execute_result",
          "data": {
            "text/plain": [
              "18703127.63085496"
            ]
          },
          "metadata": {
            "tags": []
          },
          "execution_count": 98
        }
      ]
    },
    {
      "cell_type": "markdown",
      "metadata": {
        "id": "JV1h_oxknUIB"
      },
      "source": [
        "### Decision Making\n",
        "\n",
        "When deciding on models, the highest $R^2$ value is preferrable. The opposite goes for the MSE value, which when lowest, is best.\n",
        "\n",
        "Looking at the values for each model above, we can conclude that the MLR is the best model, since it has the lowest MSE score and the highest $R^2$."
      ]
    },
    {
      "cell_type": "markdown",
      "metadata": {
        "id": "23USL-lJn0yH"
      },
      "source": [
        "#Final Considerations\n",
        "\n",
        "This notebook was based off of the \"applied data science with python\" course from cognitive class (https://cognitiveclass.ai/) and is a compilation of my notes and important topics from it.\n",
        "\n",
        "This course is one of the best things I came across as a student and I'm very thankful for IBM to have made this available for free.\n",
        "\n",
        "A few parts were taken out of their lab notebook, that was written by the following people:\n",
        "\n",
        "## Author\n",
        "\n",
        "<a href=\"https://www.linkedin.com/in/joseph-s-50398b136/\" target=\"_blank\">Joseph Santarcangelo</a>\n",
        "\n",
        "### Other Contributors\n",
        "\n",
        "<a href=\"https://www.linkedin.com/in/mahdi-noorian-58219234/\" target=\"_blank\">Mahdi Noorian PhD</a>\n",
        "\n",
        "Bahare Talayian\n",
        "\n",
        "Eric Xiao\n",
        "\n",
        "Steven Dong\n",
        "\n",
        "Parizad\n",
        "\n",
        "Hima Vasudevan\n",
        "\n",
        "<a href=\"https://www.linkedin.com/in/fiorellawever/\" target=\"_blank\">Fiorella Wenver</a>\n",
        "\n",
        "<a href=\" https://www.linkedin.com/in/yi-leng-yao-84451275/ \" target=\"_blank\" >Yi Yao</a>.\n",
        "\n",
        "Kudos to IBM and it's authors for keeping this knowledge free."
      ]
    },
    {
      "cell_type": "code",
      "metadata": {
        "id": "MNmrWEolmyH5"
      },
      "source": [
        ""
      ],
      "execution_count": null,
      "outputs": []
    }
  ]
}