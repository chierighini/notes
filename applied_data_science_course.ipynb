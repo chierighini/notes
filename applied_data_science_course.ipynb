{
  "nbformat": 4,
  "nbformat_minor": 0,
  "metadata": {
    "colab": {
      "name": "applied_data_science_course.ipynb",
      "provenance": [],
      "toc_visible": true,
      "authorship_tag": "ABX9TyMW7G8IwAb+fmFRM7Kt8hUk",
      "include_colab_link": true
    },
    "kernelspec": {
      "name": "python3",
      "display_name": "Python 3"
    }
  },
  "cells": [
    {
      "cell_type": "markdown",
      "metadata": {
        "id": "view-in-github",
        "colab_type": "text"
      },
      "source": [
        "<a href=\"https://colab.research.google.com/github/chierighini/notes/blob/main/applied_data_science_course.ipynb\" target=\"_parent\"><img src=\"https://colab.research.google.com/assets/colab-badge.svg\" alt=\"Open In Colab\"/></a>"
      ]
    },
    {
      "cell_type": "markdown",
      "metadata": {
        "id": "Q7AhuDEArf3d"
      },
      "source": [
        "#Applied Data Science with Python\n"
      ]
    },
    {
      "cell_type": "markdown",
      "metadata": {
        "id": "ANxEZ0YgsL6i"
      },
      "source": [
        "##Introduction\n",
        "In this notebook I'll be writing my notes for my Data Science course with python and perhaps some useful things to look back to whenever needed."
      ]
    },
    {
      "cell_type": "markdown",
      "metadata": {
        "id": "Gqm4KpFVsHDU"
      },
      "source": [
        "##Libraries\n"
      ]
    },
    {
      "cell_type": "markdown",
      "metadata": {
        "id": "SNmgKC47sXrb"
      },
      "source": [
        "###Scientific Computing libraries\n",
        "In this group we have:\n",
        "\n",
        "####```pandas```\n",
        "\n",
        "https://pypi.org/project/pandas/\n",
        "\n",
        "Which can be installed with: ```pip install pandas```\n",
        "\n",
        "```pandas``` is a library for data science and tools for manipulating data in the form of data frames.\n",
        "\n",
        "####```numpy```\n",
        "\n",
        "https://pypi.org/project/numpy/\n",
        "\n",
        "Which can be installed with: ```pip install numpy```\n",
        "\n",
        "```numpy``` is used for fast array processing, and a few other things.\n",
        "\n",
        "####```scipy```\n",
        "\n",
        "https://pypi.org/project/scipy/\n",
        "\n",
        "Which can be installed with: ```pip install scipy```\n",
        "\n",
        "```scipy``` is used for solving advanced mathematical problems, such as integrals, differential equations and more."
      ]
    },
    {
      "cell_type": "markdown",
      "metadata": {
        "id": "AHA-6_qmumXo"
      },
      "source": [
        "###Data Visualization Libraries\n",
        "\n",
        "####```matplotlib```\n",
        "\n",
        "https://pypi.org/project/matplotlib/\n",
        "\n",
        "Which can be installed with: ```pip install matplotlib```\n",
        "\n",
        "```matplotlib```is a tool for making graphs and plots\n",
        "\n",
        "####```seaborn```\n",
        "\n",
        "https://pypi.org/project/seaborn/\n",
        "\n",
        "Which can be installed with: ```pip install seaborn```\n",
        "\n",
        "```seaborn``` is based off of matplotlib, and it's used to make other types of plots, such as heat maps, time series and violin plots."
      ]
    },
    {
      "cell_type": "markdown",
      "metadata": {
        "id": "F4bVOs92vwvA"
      },
      "source": [
        "###Algorithmic Libraries\n",
        "\n",
        "####```scikit-learn```\n",
        "\n",
        "https://pypi.org/project/scikit-learn/\n",
        "\n",
        "Which can be installed with: ```pip install scikit-learn```\n",
        "\n",
        "```scikit-learn``` is a library made for statistical modeling, including regression, classification, clustering and so on.\n",
        "\n",
        "####```statsmodels```\n",
        "\n",
        "https://pypi.org/project/statsmodels/\n",
        "\n",
        "Which can be installed with: ```pip install statsmodels```\n",
        "\n",
        "```statsmodels``` is a library mad to  explore data, estimate statistical\n",
        "models, and perform statistical tests."
      ]
    },
    {
      "cell_type": "code",
      "metadata": {
        "id": "NR18AdSbRMnW",
        "outputId": "aff0df2c-6c7a-4be0-932a-a3c25561722d",
        "colab": {
          "base_uri": "https://localhost:8080/",
          "height": 135
        }
      },
      "source": [
        "wget https://archive.ics.uci.edu/ml/machine-learning-databases/autos/imports-85.data\n"
      ],
      "execution_count": 1,
      "outputs": [
        {
          "output_type": "error",
          "ename": "SyntaxError",
          "evalue": "ignored",
          "traceback": [
            "\u001b[0;36m  File \u001b[0;32m\"<ipython-input-1-5df046a90cf9>\"\u001b[0;36m, line \u001b[0;32m1\u001b[0m\n\u001b[0;31m    wget https://archive.ics.uci.edu/ml/machine-learning-databases/autos/imports-85.data\u001b[0m\n\u001b[0m             ^\u001b[0m\n\u001b[0;31mSyntaxError\u001b[0m\u001b[0;31m:\u001b[0m invalid syntax\n"
          ]
        }
      ]
    },
    {
      "cell_type": "code",
      "metadata": {
        "id": "vUgmq_JtD7ac"
      },
      "source": [
        ""
      ],
      "execution_count": null,
      "outputs": []
    }
  ]
}