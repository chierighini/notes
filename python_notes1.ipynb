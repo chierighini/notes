{
  "nbformat": 4,
  "nbformat_minor": 0,
  "metadata": {
    "colab": {
      "name": "python_notes1.ipynb",
      "provenance": [],
      "collapsed_sections": [],
      "toc_visible": true,
      "authorship_tag": "ABX9TyONfsuD45HuR5pQJiozbfoe",
      "include_colab_link": true
    },
    "kernelspec": {
      "name": "python3",
      "display_name": "Python 3"
    }
  },
  "cells": [
    {
      "cell_type": "markdown",
      "metadata": {
        "id": "view-in-github",
        "colab_type": "text"
      },
      "source": [
        "<a href=\"https://colab.research.google.com/github/chierighini/notes/blob/main/python_notes1.ipynb\" target=\"_parent\"><img src=\"https://colab.research.google.com/assets/colab-badge.svg\" alt=\"Open In Colab\"/></a>"
      ]
    },
    {
      "cell_type": "markdown",
      "metadata": {
        "id": "aZ9x9mD2yvMs"
      },
      "source": [
        "\n",
        "# Introduction\n",
        "\n",
        "This notebook is just a cheatsheat for topics I found myself either lacking or not fully knowing about Python.\n",
        "\n",
        "Keep in mind that the topics presented here are not in any particular order and do not follow any logic sequence whatsoever, they are just topics I believe are necessary to complement my knowledge in python and that at the time I did not believe I understood fully.\n",
        "\n",
        "That said, the purpose of this is to be used as a cheatsheat with a compilation of examples and use cases for each of the listed topics, and hopefully will be mostly forgotten and unused as I progress further as a developer.\n"
      ]
    },
    {
      "cell_type": "markdown",
      "metadata": {
        "id": "QFhMj2KazeCU"
      },
      "source": [
        "#Anonymous Functions\n",
        "Anonymous functions, or lambda expressions are one line functions that have no name and are declared with the ```lambda``` operator to create a one time use function for that specific case to eliminate the need of declaring and using another function.\n",
        "\n",
        "The following are simplistic use case examples:"
      ]
    },
    {
      "cell_type": "code",
      "metadata": {
        "id": "NDh35l-QyunH",
        "outputId": "7b89f04d-c8e0-42c1-a7b8-e6f08d69c61c",
        "colab": {
          "base_uri": "https://localhost:8080/",
          "height": 35
        }
      },
      "source": [
        "f= lambda x: x**2\n",
        "f(5)"
      ],
      "execution_count": null,
      "outputs": [
        {
          "output_type": "execute_result",
          "data": {
            "text/plain": [
              "25"
            ]
          },
          "metadata": {
            "tags": []
          },
          "execution_count": 2
        }
      ]
    },
    {
      "cell_type": "code",
      "metadata": {
        "id": "4f4at9xIyj9Y",
        "outputId": "599211eb-7d7c-4183-9394-41a503e42a23",
        "colab": {
          "base_uri": "https://localhost:8080/",
          "height": 35
        }
      },
      "source": [
        "f(2)"
      ],
      "execution_count": null,
      "outputs": [
        {
          "output_type": "execute_result",
          "data": {
            "text/plain": [
              "4"
            ]
          },
          "metadata": {
            "tags": []
          },
          "execution_count": 3
        }
      ]
    },
    {
      "cell_type": "markdown",
      "metadata": {
        "id": "kb0jYORa1BSy"
      },
      "source": [
        "Lambda functions are structured like this:\n",
        "```\n",
        "lambda params: expression\n",
        "```\n",
        "For any given number of parameters and any one line expression\n",
        "\n"
      ]
    },
    {
      "cell_type": "code",
      "metadata": {
        "id": "xqZ3dXI90pTz",
        "outputId": "f92901e9-c486-46ce-8bce-bc0a78f3eb0c",
        "colab": {
          "base_uri": "https://localhost:8080/",
          "height": 35
        }
      },
      "source": [
        "def quad_func(a,b,c):\n",
        "  #returns the quadratic function\n",
        "  return lambda x: a*x**2 + b*x + c\n",
        "\n",
        "f = quad_func(2,5,7)\n",
        "f(3)"
      ],
      "execution_count": null,
      "outputs": [
        {
          "output_type": "execute_result",
          "data": {
            "text/plain": [
              "40"
            ]
          },
          "metadata": {
            "tags": []
          },
          "execution_count": 4
        }
      ]
    },
    {
      "cell_type": "markdown",
      "metadata": {
        "id": "r54cx6en0oI6"
      },
      "source": [
        "#List Comprehension\n",
        "A tool to simplify the process of creating and filling lists.\n",
        "\n",
        "The most basic form of list comprehension is the following:\n",
        "```\n",
        "list = [expr for val in collection]\n",
        "#or\n",
        "list = [expr for val in collection if test]\n",
        "\n",
        "#and it can be used with more than one collection and more than one if statement\n",
        "list = [expr for val in collection for val2 in collection2]\n",
        "list = [expr for val in collection if test if test2]\n",
        "```\n",
        "\n",
        "A quick note to anyone reading is that I tried to use list comprehensions as much as possible as a form of training during the writing of this notebook, I do not know if that is a good programming practice or even if it should be followed, for that matter, but I figured I know enough about for loops and should spend my energy thinking on comprehensions for the sake of learning.\n"
      ]
    },
    {
      "cell_type": "code",
      "metadata": {
        "id": "6LU-Evv20Xxz",
        "outputId": "e6abaa32-9498-408e-bc00-330bfc95d017",
        "colab": {
          "base_uri": "https://localhost:8080/",
          "height": 55
        }
      },
      "source": [
        "squares = [i**2 for i in range(100)]\n",
        "print(squares)"
      ],
      "execution_count": null,
      "outputs": [
        {
          "output_type": "stream",
          "text": [
            "[0, 1, 4, 9, 16, 25, 36, 49, 64, 81, 100, 121, 144, 169, 196, 225, 256, 289, 324, 361, 400, 441, 484, 529, 576, 625, 676, 729, 784, 841, 900, 961, 1024, 1089, 1156, 1225, 1296, 1369, 1444, 1521, 1600, 1681, 1764, 1849, 1936, 2025, 2116, 2209, 2304, 2401, 2500, 2601, 2704, 2809, 2916, 3025, 3136, 3249, 3364, 3481, 3600, 3721, 3844, 3969, 4096, 4225, 4356, 4489, 4624, 4761, 4900, 5041, 5184, 5329, 5476, 5625, 5776, 5929, 6084, 6241, 6400, 6561, 6724, 6889, 7056, 7225, 7396, 7569, 7744, 7921, 8100, 8281, 8464, 8649, 8836, 9025, 9216, 9409, 9604, 9801]\n"
          ],
          "name": "stdout"
        }
      ]
    },
    {
      "cell_type": "code",
      "metadata": {
        "id": "aUZUGzfn5cy_",
        "outputId": "930858cc-354a-4c82-860c-c714e664a366",
        "colab": {
          "base_uri": "https://localhost:8080/",
          "height": 35
        }
      },
      "source": [
        "vector = [2,3,4,5,6,7,8]\n",
        "#perform scalar multipication on even numbers by four\n",
        "list = [i*4 for i in vector if not i%2]\n",
        "print(list)"
      ],
      "execution_count": null,
      "outputs": [
        {
          "output_type": "stream",
          "text": [
            "[8, 16, 24, 32]\n"
          ],
          "name": "stdout"
        }
      ]
    },
    {
      "cell_type": "code",
      "metadata": {
        "id": "5OEoHFb95tFu",
        "outputId": "e5cd6bab-2c66-4f70-fe83-aac4443d4fd2",
        "colab": {
          "base_uri": "https://localhost:8080/",
          "height": 35
        }
      },
      "source": [
        "A = [1,6,2,9]\n",
        "B = [8,9,0,1]\n",
        "#perform the cartesian product of the two sets\n",
        "product = [(a,b) for a in A for b in B]\n",
        "print(product)"
      ],
      "execution_count": null,
      "outputs": [
        {
          "output_type": "stream",
          "text": [
            "[(1, 8), (1, 9), (1, 0), (1, 1), (6, 8), (6, 9), (6, 0), (6, 1), (2, 8), (2, 9), (2, 0), (2, 1), (9, 8), (9, 9), (9, 0), (9, 1)]\n"
          ],
          "name": "stdout"
        }
      ]
    },
    {
      "cell_type": "markdown",
      "metadata": {
        "id": "gcZOkjj-KWxn"
      },
      "source": [
        "#Dictionaries\n",
        "Dictionaries are data structures that behave a lot like JSONs and are composed by key-value pairs which can be accessed and used in various ways.\n",
        "```\n",
        "#an example of a dictionary would be\n",
        "exmpl_dict = {\n",
        "  \"name\": \"John Doe\"\n",
        "  \"age\": 20\n",
        "}\n",
        "```\n",
        "The values inside can be acessed and changed by the use of keys, as well as looped through by them, or even by their values.\n"
      ]
    },
    {
      "cell_type": "code",
      "metadata": {
        "id": "x0U39uJClviE",
        "outputId": "2b2a1ca0-4012-4901-91ff-fb5bbf088eb3",
        "colab": {
          "base_uri": "https://localhost:8080/",
          "height": 35
        }
      },
      "source": [
        "exmpl_dict={\"name\":\"John Doe\",\"age\":20}\n",
        "print(exmpl_dict[\"name\"])"
      ],
      "execution_count": null,
      "outputs": [
        {
          "output_type": "stream",
          "text": [
            "John Doe\n"
          ],
          "name": "stdout"
        }
      ]
    },
    {
      "cell_type": "code",
      "metadata": {
        "id": "dVj8I4C0mFvD",
        "outputId": "d56126c4-4306-4a53-ed2a-410f92c52eab",
        "colab": {
          "base_uri": "https://localhost:8080/",
          "height": 54
        }
      },
      "source": [
        "#looping through the dictionary keys\n",
        "for key in exmpl_dict:\n",
        "  print(key)\n",
        "\n",
        "  '''\n",
        "  to loop trhough the values one would need to use exmpl_dict.values() in the for \n",
        "  loop, or use the \"key\" value inside brackets: exmpl_dict[key]\n",
        "  '''"
      ],
      "execution_count": null,
      "outputs": [
        {
          "output_type": "stream",
          "text": [
            "name\n",
            "age\n"
          ],
          "name": "stdout"
        }
      ]
    },
    {
      "cell_type": "code",
      "metadata": {
        "id": "x_GaBaQlmaX8",
        "outputId": "acb9097b-28ae-4dfd-ac7c-0c8e8fee7b37",
        "colab": {
          "base_uri": "https://localhost:8080/",
          "height": 35
        }
      },
      "source": [
        "exmpl_dict[\"name\"]=\"Jane Doe\"\n",
        "print(exmpl_dict[\"name\"])"
      ],
      "execution_count": null,
      "outputs": [
        {
          "output_type": "stream",
          "text": [
            "Jane Doe\n"
          ],
          "name": "stdout"
        }
      ]
    },
    {
      "cell_type": "markdown",
      "metadata": {
        "id": "OzkFg2Lfn2OY"
      },
      "source": [
        "To add values from a dictionary it is possible to just \"change\" them like they were alredy there."
      ]
    },
    {
      "cell_type": "code",
      "metadata": {
        "id": "l_nab152n_VJ",
        "outputId": "8970b40a-2d70-45f7-e261-014db303c121",
        "colab": {
          "base_uri": "https://localhost:8080/",
          "height": 35
        }
      },
      "source": [
        "exmpl_dict[\"birth\"]=2000\n",
        "print(exmpl_dict)\n",
        "\n",
        "#and that concludes my research on why python is beautiful /s"
      ],
      "execution_count": null,
      "outputs": [
        {
          "output_type": "stream",
          "text": [
            "{'name': 'Jane Doe', 'age': 20, 'birth': 2000}\n"
          ],
          "name": "stdout"
        }
      ]
    },
    {
      "cell_type": "markdown",
      "metadata": {
        "id": "98rt2pguoZF7"
      },
      "source": [
        "To remove values we use the ```pop()``` function, with the desired key to be removed, as a paramater, or we can use ```popitem()``` to remove the last inserted item. Before python 3.7, ```popitem()```would remove a random item for some reason."
      ]
    },
    {
      "cell_type": "code",
      "metadata": {
        "id": "siMoeNUipGxo",
        "outputId": "d67f9d9d-02a4-4583-a4f3-6c40fa4bae63",
        "colab": {
          "base_uri": "https://localhost:8080/",
          "height": 35
        }
      },
      "source": [
        "exmpl_dict.popitem()\n",
        "#alternatively pop(\"birth\") could be used to the same effect\n",
        "\n",
        "print(exmpl_dict)"
      ],
      "execution_count": null,
      "outputs": [
        {
          "output_type": "stream",
          "text": [
            "{'name': 'Jane Doe', 'age': 20}\n"
          ],
          "name": "stdout"
        }
      ]
    },
    {
      "cell_type": "markdown",
      "metadata": {
        "id": "HdZd-2DsvC9F"
      },
      "source": [
        "To copy the contents of a dictionary one can't simply make ```dict1 = dict2``` since that would only copy its reference, and any operations made on either dictionaries would affect both of them. Because of this the ```copy()``` method must be used in order to truly copy the contents of a dictionary."
      ]
    },
    {
      "cell_type": "code",
      "metadata": {
        "id": "oHKpqBpjv9Lx",
        "outputId": "06273f46-aa6d-4580-d2b0-4d462e4d8222",
        "colab": {
          "base_uri": "https://localhost:8080/",
          "height": 54
        }
      },
      "source": [
        "copied_dict = exmpl_dict.copy()\n",
        "\n",
        "copied_dict.pop(\"age\")\n",
        "\n",
        "print(exmpl_dict)\n",
        "print(copied_dict)"
      ],
      "execution_count": null,
      "outputs": [
        {
          "output_type": "stream",
          "text": [
            "{'name': 'Jane Doe', 'age': 20}\n",
            "{'name': 'Jane Doe'}\n"
          ],
          "name": "stdout"
        }
      ]
    },
    {
      "cell_type": "markdown",
      "metadata": {
        "id": "sjfkWnWPwecx"
      },
      "source": [
        "Dictionaries can also be nested within each other:"
      ]
    },
    {
      "cell_type": "code",
      "metadata": {
        "id": "T3CyoyrPwkGY",
        "outputId": "089e8dbb-4a73-464c-e501-4ddac7d65e08",
        "colab": {
          "base_uri": "https://localhost:8080/",
          "height": 35
        }
      },
      "source": [
        "nested_dict = {\n",
        "    \"name\":\"Azatoth\",\n",
        "    \"children\": {\n",
        "        \"child1\": {\n",
        "            \"name\":\"Cthulhu\",\n",
        "            \"location\": \"earth\"\n",
        "        },\n",
        "        \"child2\": {\n",
        "            \"name\":\"Hastur\",\n",
        "            \"location\":\"unknown\"\n",
        "        }\n",
        "    }\n",
        "}\n",
        "print(nested_dict)"
      ],
      "execution_count": null,
      "outputs": [
        {
          "output_type": "stream",
          "text": [
            "{'name': 'Azatoth', 'children': {'child1': {'name': 'Cthulhu', 'location': 'earth'}, 'child2': {'name': 'Hastur', 'location': 'unknown'}}}\n"
          ],
          "name": "stdout"
        }
      ]
    },
    {
      "cell_type": "markdown",
      "metadata": {
        "id": "9ZR2-WhKyKwX"
      },
      "source": [
        "Dictionaries can also be made by using the ```dict()``` constructor:"
      ]
    },
    {
      "cell_type": "code",
      "metadata": {
        "id": "l7Uxbpm1yUiq",
        "outputId": "9a40e868-9dad-4ba7-db57-e5ded3fe8862",
        "colab": {
          "base_uri": "https://localhost:8080/",
          "height": 35
        }
      },
      "source": [
        "const_dict = dict(name=\"The Allfather\",age=\"yes\",a_random_number=4)\n",
        "print(const_dict)"
      ],
      "execution_count": null,
      "outputs": [
        {
          "output_type": "stream",
          "text": [
            "{'name': 'The Allfather', 'age': 'yes', 'a_random_number': 4}\n"
          ],
          "name": "stdout"
        }
      ]
    },
    {
      "cell_type": "markdown",
      "metadata": {
        "id": "ZnMRBVopyqZ7"
      },
      "source": [
        "Note that when using the constructor the keys are not strings and the ```:```is replaced by ```=```"
      ]
    },
    {
      "cell_type": "markdown",
      "metadata": {
        "id": "ef4Rw359805r"
      },
      "source": [
        "#Argument Parsing\n",
        "Usage for ```*args and **kwargs.```\n",
        "\n",
        "```*args``` is a list of non-keyworded arguments, while ```**kwargs``` is a list of key-worded arguments.\n",
        "\n"
      ]
    },
    {
      "cell_type": "markdown",
      "metadata": {
        "id": "BMnm0k1Yv1vV"
      },
      "source": [
        "##```*args```\n",
        "The ```*args``` parameter is used whenever you want to be able to pass as many non-keyworded arguments as desired to a function without having to worry about constraints.\n",
        "```\n",
        "#as neat and clean as this type of function can be for making a sum, it is limited to the amount of arguments one declares together with the function\n",
        "\n",
        "def my_func(a,b,c):\n",
        "  return a+b+c\n",
        "\n",
        "#utilizing *args it is possible to pass as many as you would want without the interpreter complaining about too many of them\n",
        "\n",
        "def my_other_func(*args):\n",
        "  sum=0\n",
        "  for arg in args:\n",
        "    sum+=arg\n",
        "  return sum\n",
        "```"
      ]
    },
    {
      "cell_type": "code",
      "metadata": {
        "id": "rEFqP0KezBtC"
      },
      "source": [
        "#here you can see the implemented version of the code mentioned above\n",
        "def arg_function(*args):\n",
        "  sum=0\n",
        "  for arg in args:\n",
        "    sum+=arg\n",
        "  return sum"
      ],
      "execution_count": null,
      "outputs": []
    },
    {
      "cell_type": "code",
      "metadata": {
        "id": "NgZr8-Xeyx4b",
        "outputId": "373e6d7d-21b5-4b81-c1bd-a60eef8f6074",
        "colab": {
          "base_uri": "https://localhost:8080/",
          "height": 54
        }
      },
      "source": [
        "print(arg_function(3,3,3,3,3))\n",
        "print(arg_function(5,4,6,5,9))"
      ],
      "execution_count": null,
      "outputs": [
        {
          "output_type": "stream",
          "text": [
            "15\n",
            "29\n"
          ],
          "name": "stdout"
        }
      ]
    },
    {
      "cell_type": "code",
      "metadata": {
        "id": "EiMec3Qq8jLu"
      },
      "source": [
        "#an exemple that also uses list comprehension as a bonus\n",
        "def arg_function1(*args):\n",
        "  return [i*2 for i in args]"
      ],
      "execution_count": null,
      "outputs": []
    },
    {
      "cell_type": "code",
      "metadata": {
        "id": "xDw22jvRyZ20",
        "outputId": "f7c5740b-c16f-4db8-ea11-4be6646559ce",
        "colab": {
          "base_uri": "https://localhost:8080/",
          "height": 109
        }
      },
      "source": [
        "#comma separated arguments seem to work in this format\n",
        "print(arg_function1(1,2,3,4))\n",
        "\n",
        "#if lists are passed as args python will interpret as a single argument\n",
        "print(arg_function1([1,2],[4,6]))\n",
        "\n",
        "#the * operator can be used to unpack the arguments from the list\n",
        "list_args = [1,2,3,4,5]\n",
        "print(arg_function1(*list_args))\n",
        "\n",
        "#as can be seen in this example as well\n",
        "print(arg_function1(*[1,2],[4,6]))\n",
        "print(arg_function1(*[1,2],*[4,6]))"
      ],
      "execution_count": null,
      "outputs": [
        {
          "output_type": "stream",
          "text": [
            "[2, 4, 6, 8]\n",
            "[[1, 2, 1, 2], [4, 6, 4, 6]]\n",
            "[2, 4, 6, 8, 10]\n",
            "[2, 4, [4, 6, 4, 6]]\n",
            "[2, 4, 8, 12]\n"
          ],
          "name": "stdout"
        }
      ]
    },
    {
      "cell_type": "code",
      "metadata": {
        "id": "YMGCTMZEcjE8",
        "outputId": "3061b3c5-18ce-42af-a381-4ca3aae1e40e",
        "colab": {
          "base_uri": "https://localhost:8080/",
          "height": 35
        }
      },
      "source": [
        "def arg_function2(number,*args):\n",
        "  return [number*i for i in args]\n",
        "\n",
        "#the arguments apparently follow the same order they were declared in\n",
        "print(arg_function2(3,1,2,3))"
      ],
      "execution_count": null,
      "outputs": [
        {
          "output_type": "stream",
          "text": [
            "[3, 6, 9]\n"
          ],
          "name": "stdout"
        }
      ]
    },
    {
      "cell_type": "markdown",
      "metadata": {
        "id": "I55tPT_KzzFB"
      },
      "source": [
        "##```**kwargs```\n",
        "The ```**kwargs``` parameter is used for keyworded arguments that you might want to pass to your function"
      ]
    },
    {
      "cell_type": "code",
      "metadata": {
        "id": "8Aoq7U7KfIkN",
        "outputId": "c8461f51-fa96-407d-c7e8-977d28d055e8",
        "colab": {
          "base_uri": "https://localhost:8080/",
          "height": 72
        }
      },
      "source": [
        "#kwargs refers to keyworded lists\n",
        "def kwarg_function(**kwargs):\n",
        "  \n",
        "  #items refer to both keys and values in kwargs\n",
        "  print(kwargs.items())\n",
        "\n",
        "  #it is possible to use the values by their keys\n",
        "  print(kwargs[\"number\"])\n",
        "  return [key for key in kwargs]\n",
        "\n",
        "print(kwarg_function(number=2,letter='a'))"
      ],
      "execution_count": null,
      "outputs": [
        {
          "output_type": "stream",
          "text": [
            "dict_items([('number', 2), ('letter', 'a')])\n",
            "2\n",
            "['number', 'letter']\n"
          ],
          "name": "stdout"
        }
      ]
    },
    {
      "cell_type": "code",
      "metadata": {
        "id": "L6FL72kej4B_",
        "outputId": "88697cb8-3f06-4a10-eb9e-26f645fa989b",
        "colab": {
          "base_uri": "https://localhost:8080/",
          "height": 54
        }
      },
      "source": [
        "#an example of the values and keys being used in a string format\n",
        "def kwarg_function1(**kwargs):\n",
        "  return [\"The capital of {} is {}\".format(key,value) for key,value in kwargs.items()]\n",
        "\n",
        "print(kwarg_function1(Brazil=\"Sao Paulo\",Germany=\"Berlin\"))\n",
        "\n",
        "#it can also be used with dictionaries as long as they are \"unwraped\" by the double asterisc (**).\n",
        "\n",
        "my_dict = {\"France\":\"Paris\", \"Norway\":\"Oslo\", \"Sweden\":\"Stockholm\"}\n",
        "\n",
        "print(kwarg_function1(**my_dict))\n"
      ],
      "execution_count": null,
      "outputs": [
        {
          "output_type": "stream",
          "text": [
            "['The capital of Brazil is Sao Paulo', 'The capital of Germany is Berlin']\n",
            "['The capital of France is Paris', 'The capital of Norway is Oslo', 'The capital of Sweden is Stockholm']\n"
          ],
          "name": "stdout"
        }
      ]
    },
    {
      "cell_type": "markdown",
      "metadata": {
        "id": "nxs77ANJP1NH"
      },
      "source": [
        "#Dunder Methods\n",
        "\"Dunder\" stands for double underscore, and is used to refer to methods that have, as the name states, two underscores before and after their name, such as:```__init__()```.\n",
        "\n",
        "Dunder methods are used to \"map\" the synthax on a higher level from a lower one."
      ]
    },
    {
      "cell_type": "markdown",
      "metadata": {
        "id": "KWjaVP5ZNajw"
      },
      "source": [
        "In This example, the ```__init__(self,value)``` is a dunder method which is a constructor for the class. If we create an instance of the class and print it, we get some not so useful information regarding the class."
      ]
    },
    {
      "cell_type": "code",
      "metadata": {
        "id": "80NCM4Q900X6"
      },
      "source": [
        "class c0:\n",
        "  def __init__(self,value):\n",
        "    self.x = value\n",
        "\n",
        "c = c0(5)"
      ],
      "execution_count": 1,
      "outputs": []
    },
    {
      "cell_type": "code",
      "metadata": {
        "id": "CZHFMr30OGtX",
        "outputId": "12f4eff7-98b0-48d5-d98b-a5ad7749ab4d",
        "colab": {
          "base_uri": "https://localhost:8080/"
        }
      },
      "source": [
        "print(c)"
      ],
      "execution_count": 2,
      "outputs": [
        {
          "output_type": "stream",
          "text": [
            "<__main__.c0 object at 0x7fa1e1442550>\n"
          ],
          "name": "stdout"
        }
      ]
    },
    {
      "cell_type": "markdown",
      "metadata": {
        "id": "O2nqiO9wOLkI"
      },
      "source": [
        "However, if we use the dunder method ```__repr__()``` we can make a representation of the class when printed out:"
      ]
    },
    {
      "cell_type": "code",
      "metadata": {
        "id": "aGBoUn2qOXPt"
      },
      "source": [
        "class c1:\n",
        "  def __init__(self,value):\n",
        "    self.x = value\n",
        "  \n",
        "  def __repr__(self):\n",
        "    return f\"the x is {self.x}\" #f stands for formatted, so we can include values inside\n",
        "\n",
        "c = c1(5)"
      ],
      "execution_count": 10,
      "outputs": []
    },
    {
      "cell_type": "code",
      "metadata": {
        "id": "vhs98eFOO2jn",
        "outputId": "cd760c0f-2421-43bb-d510-b6689aa4f264",
        "colab": {
          "base_uri": "https://localhost:8080/"
        }
      },
      "source": [
        "print(c)"
      ],
      "execution_count": 9,
      "outputs": [
        {
          "output_type": "stream",
          "text": [
            "the x is 5\n"
          ],
          "name": "stdout"
        }
      ]
    },
    {
      "cell_type": "markdown",
      "metadata": {
        "id": "xZlxQH2HP0KF"
      },
      "source": [
        "This extends to a lot more than just printing a name, it is possible to define what an operation will do when used in conjuction with your object."
      ]
    },
    {
      "cell_type": "code",
      "metadata": {
        "id": "u0IFmgI_PNrW"
      },
      "source": [
        "class c2:\n",
        "  def __init__(self,value):\n",
        "    self.x = value\n",
        "  def __repr__(self):\n",
        "    return f\"the x is {self.x}\" #f stands for formatted, so we can include values inside\n",
        "  def __add__(self,item):\n",
        "    if type(self.x) is int:\n",
        "      self.x = [self.x]\n",
        "    self.x.append(item)\n",
        "\n",
        "c = c2(5)"
      ],
      "execution_count": 11,
      "outputs": []
    },
    {
      "cell_type": "code",
      "metadata": {
        "id": "Nc4h2UZTRQXU",
        "outputId": "bd5ce3c7-feb0-4121-f16f-619fb4c96d42",
        "colab": {
          "base_uri": "https://localhost:8080/"
        }
      },
      "source": [
        "c+6\n",
        "print(c)"
      ],
      "execution_count": 13,
      "outputs": [
        {
          "output_type": "stream",
          "text": [
            "the x is [5, 6]\n"
          ],
          "name": "stdout"
        }
      ]
    },
    {
      "cell_type": "markdown",
      "metadata": {
        "id": "zsaXprRLSFCa"
      },
      "source": [
        "The full list of dunder methods can be found in the python documentation, since it is impossible to make examples for all of them.\n",
        "\n",
        "https://docs.python.org/3/reference/datamodel.html#special-method-names"
      ]
    }
  ]
}