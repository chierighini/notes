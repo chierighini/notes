{
  "nbformat": 4,
  "nbformat_minor": 0,
  "metadata": {
    "colab": {
      "name": "python_notes2.ipynb",
      "provenance": [],
      "collapsed_sections": [],
      "toc_visible": true,
      "authorship_tag": "ABX9TyO+UsydzNesTcdAC8LroJQA",
      "include_colab_link": true
    },
    "kernelspec": {
      "name": "python3",
      "display_name": "Python 3"
    }
  },
  "cells": [
    {
      "cell_type": "markdown",
      "metadata": {
        "id": "view-in-github",
        "colab_type": "text"
      },
      "source": [
        "<a href=\"https://colab.research.google.com/github/chierighini/notes/blob/main/python_notes2.ipynb\" target=\"_parent\"><img src=\"https://colab.research.google.com/assets/colab-badge.svg\" alt=\"Open In Colab\"/></a>"
      ]
    },
    {
      "cell_type": "markdown",
      "metadata": {
        "id": "nZKLBknuZpsc"
      },
      "source": [
        "First Part: https://colab.research.google.com/drive/1W2aWQHJgf2wOU7_xMqlXyoFMjvP9wIlO?usp=sharing\n",
        "\n",
        "I made them separate notes for the sake of readability and so that GitHub would load the previews faster... not that I know if that actually works. I guess we all have our quirks."
      ]
    },
    {
      "cell_type": "markdown",
      "metadata": {
        "id": "YUaZ0CO6Zdl1"
      },
      "source": [
        "#Meta Classes\n",
        "\n",
        "Meta classes define the rules for creating a class. It is possible to make a meta class to change the way a class is created."
      ]
    },
    {
      "cell_type": "markdown",
      "metadata": {
        "id": "Io-1DsH8bcjS"
      },
      "source": [
        "##Type of class\n",
        "When checking for the object type of class we observe that it is of object ```type``` as opposed to the type of a function, an integer or even the instance of the same class:"
      ]
    },
    {
      "cell_type": "code",
      "metadata": {
        "id": "wKneR_BZZX6l",
        "outputId": "21f34567-6b9e-4dab-ca6f-3017c23a6cdf",
        "colab": {
          "base_uri": "https://localhost:8080/"
        }
      },
      "source": [
        "class C:\n",
        "  def func(self):\n",
        "    print('hello')\n",
        "\n",
        "def func():\n",
        "  pass\n",
        "\n",
        "print(type(func))\n",
        "print(type(5))\n",
        "print(type(C()))\n",
        "print(type(C))"
      ],
      "execution_count": null,
      "outputs": [
        {
          "output_type": "stream",
          "text": [
            "<class 'function'>\n",
            "<class 'int'>\n",
            "<class '__main__.C'>\n",
            "<class 'type'>\n"
          ],
          "name": "stdout"
        }
      ]
    },
    {
      "cell_type": "markdown",
      "metadata": {
        "id": "akNpAqtRc86E"
      },
      "source": [
        "From this we learn that a class can be created using the ```type``` method, which takes the arguments as: ```type(class_name,(bases,),{'attribute':value})```. In the next example, the ```Test``` class inherits from the first class ```C``` and has two integer attributes ```x``` and ```y``` and also a method, which is defined beforehand. Those arguments are passed on to a ```type```class, which then turns it into an actual class."
      ]
    },
    {
      "cell_type": "code",
      "metadata": {
        "id": "vvdfF-vlb9D9",
        "outputId": "2aae0851-805b-4af7-9890-6c03e848abc8",
        "colab": {
          "base_uri": "https://localhost:8080/"
        }
      },
      "source": [
        "def aFunc(self):\n",
        "  self.k = 15\n",
        "\n",
        "Test = type('Test',(C,),{'x':5,'y':10,'aFunc':aFunc})\n",
        "\n",
        "exmp=Test()\n",
        "\n",
        "print(type(Test()))\n",
        "print(exmp.x)\n",
        "print(exmp.y)\n",
        "exmp.func()\n",
        "exmp.aFunc()\n",
        "print(exmp.k)"
      ],
      "execution_count": null,
      "outputs": [
        {
          "output_type": "stream",
          "text": [
            "<class '__main__.Test'>\n",
            "5\n",
            "10\n",
            "hello\n",
            "15\n"
          ],
          "name": "stdout"
        }
      ]
    },
    {
      "cell_type": "markdown",
      "metadata": {
        "id": "0V26MPEzj8mc"
      },
      "source": [
        "##The Meta classes themselves\n",
        "\n",
        "Meta classes stand above the classes we create and can be used to modify the way that a regular class is created."
      ]
    },
    {
      "cell_type": "code",
      "metadata": {
        "id": "Qhno-gbceD-Y",
        "outputId": "da0709c9-fb7c-4ff2-fa74-5709ef5164f3",
        "colab": {
          "base_uri": "https://localhost:8080/"
        }
      },
      "source": [
        "class Meta(type):\n",
        "  def __new__(self,class_name,bases,attrs):\n",
        "    print(attrs)\n",
        "\n",
        "    a = {}\n",
        "    for name,value in attrs.items():\n",
        "      if name.startswith(\"__\"):\n",
        "        a[name] = value\n",
        "      else:\n",
        "        a[name.upper()] = value\n",
        "    print(a)\n",
        "    return type(class_name,bases,a)\n",
        "\n",
        "class A(metaclass=Meta):\n",
        "  x=6\n",
        "  k=7\n",
        "\n",
        "print(A.X)"
      ],
      "execution_count": null,
      "outputs": [
        {
          "output_type": "stream",
          "text": [
            "{'__module__': '__main__', '__qualname__': 'A', 'x': 6, 'k': 7}\n",
            "{'__module__': '__main__', '__qualname__': 'A', 'X': 6, 'K': 7}\n",
            "6\n"
          ],
          "name": "stdout"
        }
      ]
    },
    {
      "cell_type": "markdown",
      "metadata": {
        "id": "jq8v571nnJ8R"
      },
      "source": [
        "The example shown above uses a meta class to capitalize all attribute names that do not start with a double underscore, which you can notice by the difference between the ```print()``` methods inside the meta class and the ```print(A.X)``` statement."
      ]
    },
    {
      "cell_type": "markdown",
      "metadata": {
        "id": "89DyhhP6n2eG"
      },
      "source": [
        "##Quick note\n",
        "\n",
        "I don't know if meta classes are good programming practice, and this section of my notes is here for the sake of knowing what a meta class is and how it works. "
      ]
    },
    {
      "cell_type": "markdown",
      "metadata": {
        "id": "3HoGdWQeZP28"
      },
      "source": [
        "#Decorators\n",
        "\n",
        "Modifies the behavior of a function.Decorators can be used to add a functionality to the existing code without actually changing it.\n"
      ]
    },
    {
      "cell_type": "code",
      "metadata": {
        "id": "erA4nv3wl9VW"
      },
      "source": [
        "def dec_func(f):\n",
        "  def wrapper(*args,**kwargs):\n",
        "    r = f(*args,**kwargs)\n",
        "    print(r)\n",
        "    return r\n",
        "  return wrapper\n",
        "\n",
        "@dec_func\n",
        "def dec_func2(x):\n",
        "  print(\"foo\" + x)\n",
        "  return \"end\""
      ],
      "execution_count": 18,
      "outputs": []
    },
    {
      "cell_type": "markdown",
      "metadata": {
        "id": "sizvnOADTzbM"
      },
      "source": [
        "In this example the ```dec_func(f)``` takes another function as an argument and passes it on to a wrapper, which will be executed when ```dec_func2(x)``` is called, together with its alredy existing instructions, As seen in the following lines:"
      ]
    },
    {
      "cell_type": "code",
      "metadata": {
        "id": "tu8GPUbHRwRo",
        "outputId": "5aa3b894-814f-4a6b-ffa9-f2524a04dc44",
        "colab": {
          "base_uri": "https://localhost:8080/",
          "height": 54
        }
      },
      "source": [
        "k = dec_func2(\"bar\")"
      ],
      "execution_count": 20,
      "outputs": [
        {
          "output_type": "stream",
          "text": [
            "foobar\n",
            "end\n"
          ],
          "name": "stdout"
        }
      ]
    },
    {
      "cell_type": "code",
      "metadata": {
        "id": "WC4MbpnKSFIH",
        "outputId": "f533349e-5852-417a-9354-82484a5f1ecc",
        "colab": {
          "base_uri": "https://localhost:8080/",
          "height": 35
        }
      },
      "source": [
        "print(k)"
      ],
      "execution_count": 21,
      "outputs": [
        {
          "output_type": "stream",
          "text": [
            "end\n"
          ],
          "name": "stdout"
        }
      ]
    },
    {
      "cell_type": "code",
      "metadata": {
        "id": "iGXfb1ztUzJN",
        "outputId": "55d578fe-7fc0-48b7-9268-86897447b25b",
        "colab": {
          "base_uri": "https://localhost:8080/",
          "height": 36
        }
      },
      "source": [
        "k"
      ],
      "execution_count": 22,
      "outputs": [
        {
          "output_type": "execute_result",
          "data": {
            "application/vnd.google.colaboratory.intrinsic+json": {
              "type": "string"
            },
            "text/plain": [
              "'end'"
            ]
          },
          "metadata": {
            "tags": []
          },
          "execution_count": 22
        }
      ]
    },
    {
      "cell_type": "markdown",
      "metadata": {
        "id": "baCnDsU7WFWK"
      },
      "source": [
        "##Real life usage\n",
        "\n",
        "A good example is when you need a timer functionality to see how long it took for your function to run, or a logging functionality to see what's being called and so on."
      ]
    },
    {
      "cell_type": "code",
      "metadata": {
        "id": "wCA8odqzU049"
      },
      "source": [
        "import time"
      ],
      "execution_count": 24,
      "outputs": []
    },
    {
      "cell_type": "code",
      "metadata": {
        "id": "_Q24tHDYU24c"
      },
      "source": [
        "def timer(f):\n",
        "  def wrapper(*args,**kwargs):\n",
        "    start = time.time()\n",
        "    r = f(*args,**kwargs)\n",
        "    total = time.time() - start\n",
        "    print(total)\n",
        "    return r\n",
        "  return wrapper\n",
        "\n",
        "@timer\n",
        "def timed_function():\n",
        "  for _ in range(99999999):\n",
        "    pass\n",
        "\n",
        "@timer\n",
        "def timed_function1():\n",
        "  time.sleep(2)"
      ],
      "execution_count": 26,
      "outputs": []
    },
    {
      "cell_type": "code",
      "metadata": {
        "id": "FSzisKPIa2YH",
        "outputId": "2d1e11c4-d841-4baa-c8e0-d28d802b4c93",
        "colab": {
          "base_uri": "https://localhost:8080/",
          "height": 54
        }
      },
      "source": [
        "timed_function()\n",
        "timed_function1()"
      ],
      "execution_count": 27,
      "outputs": [
        {
          "output_type": "stream",
          "text": [
            "2.4492151737213135\n",
            "2.0022289752960205\n"
          ],
          "name": "stdout"
        }
      ]
    },
    {
      "cell_type": "markdown",
      "metadata": {
        "id": "bRFOzSyba_41"
      },
      "source": [
        "#Generators\n",
        "\n",
        "Generatos are a way to make values and not store them in memory, making your code more memory optimal. The first example is to show how the generator works by \"making\" it from scratch."
      ]
    },
    {
      "cell_type": "code",
      "metadata": {
        "id": "bcYo5TxlsHef"
      },
      "source": [
        "class Gen:\n",
        "  def __init__(self, n):\n",
        "    self.n = n\n",
        "    self.last = 0\n",
        "\n",
        "  def __next__(self):\n",
        "    return self.next()\n",
        "\n",
        "  def next(self):\n",
        "    if self.last == self.n:\n",
        "      raise StopIteration()\n",
        "      \n",
        "    rv = self.last ** 2\n",
        "    self.last += 1\n",
        "    return rv"
      ],
      "execution_count": 29,
      "outputs": []
    },
    {
      "cell_type": "code",
      "metadata": {
        "id": "aGsxeDE7stL2",
        "outputId": "fb4c89cb-cb23-47d5-a1a2-d1f22eed89d7",
        "colab": {
          "base_uri": "https://localhost:8080/",
          "height": 293
        }
      },
      "source": [
        "g = Gen(15)\n",
        "\n",
        "while True:\n",
        "  try:\n",
        "    print(next(g))\n",
        "  except StopIteration:\n",
        "    break"
      ],
      "execution_count": 31,
      "outputs": [
        {
          "output_type": "stream",
          "text": [
            "0\n",
            "1\n",
            "4\n",
            "9\n",
            "16\n",
            "25\n",
            "36\n",
            "49\n",
            "64\n",
            "81\n",
            "100\n",
            "121\n",
            "144\n",
            "169\n",
            "196\n"
          ],
          "name": "stdout"
        }
      ]
    },
    {
      "cell_type": "markdown",
      "metadata": {
        "id": "2CtzmG2OtG1A"
      },
      "source": [
        "The demonstration above is only there to understand the process of \"generation\". The ```Gen``` class defines an entry value and a last used value and uses them the next time the it is called.\n",
        "\n",
        "For a true generator we must use the ```yield``` keyword to \"pause\" a function in its current value."
      ]
    },
    {
      "cell_type": "code",
      "metadata": {
        "id": "Y31t6a_BuNwE",
        "outputId": "98624a7f-32aa-4565-b476-492d78cd02a1",
        "colab": {
          "base_uri": "https://localhost:8080/",
          "height": 201
        }
      },
      "source": [
        "def gen(n):\n",
        "  for i in range(n):\n",
        "    yield i**2\n",
        "\n",
        "g = gen(10)\n",
        "\n",
        "for i in g:\n",
        "  print(i)"
      ],
      "execution_count": 32,
      "outputs": [
        {
          "output_type": "stream",
          "text": [
            "0\n",
            "1\n",
            "4\n",
            "9\n",
            "16\n",
            "25\n",
            "36\n",
            "49\n",
            "64\n",
            "81\n"
          ],
          "name": "stdout"
        }
      ]
    },
    {
      "cell_type": "markdown",
      "metadata": {
        "id": "gzKmo_onuqT-"
      },
      "source": [
        "We iterate through ```g``` in order to get the next value from the generator, however, we do not need to use a loop for that:"
      ]
    },
    {
      "cell_type": "code",
      "metadata": {
        "id": "eWlMSDM2u2k5",
        "outputId": "e0517067-09ad-4eb1-8699-ad6368470e64",
        "colab": {
          "base_uri": "https://localhost:8080/",
          "height": 109
        }
      },
      "source": [
        "g = gen(4)\n",
        "\n",
        "print(next(g))\n",
        "print(next(g))\n",
        "print(next(g))\n",
        "print(next(g))\n",
        "try:\n",
        "  print(next(g))\n",
        "except StopIteration:\n",
        "  print(\"yep, that's an error\")"
      ],
      "execution_count": 35,
      "outputs": [
        {
          "output_type": "stream",
          "text": [
            "0\n",
            "1\n",
            "4\n",
            "9\n",
            "yep, that's an error\n"
          ],
          "name": "stdout"
        }
      ]
    },
    {
      "cell_type": "markdown",
      "metadata": {
        "id": "o-2Rzg6uvDH8"
      },
      "source": [
        "And as you can see, printing more times than the \"to be generated\" amount gets you a ```StopIteration``` error, which we can then handle."
      ]
    },
    {
      "cell_type": "markdown",
      "metadata": {
        "id": "ORlb3llzwqzh"
      },
      "source": [
        "#Context Manager\n",
        "Context Managers are a way to ensure an operation occurs in the event of a crash or an exit from somewhere in the code.\n",
        "\n",
        "The simplest example would be to open a file and ensuring that it closes properly, which can be done with the use of the ```with``` context manager:\n",
        "```\n",
        "with open(\"file\", \"r\") as file:\n",
        "  file.write(\"hello\")\n",
        "```\n",
        "In this case the ```open()``` method takes a filepath as a first argument and a mode in which the file will be opened.\n",
        "\n",
        "The next example will be a context manager made from scratch to see the inner workings of it. Please disregard the weird vocabulary, it's just me trying to be funnny."
      ]
    },
    {
      "cell_type": "code",
      "metadata": {
        "id": "I1cOMkAv5C0c"
      },
      "source": [
        "class File:\n",
        "  def __init__(self,filename,method):\n",
        "    self.file = open(filename,method)\n",
        "\n",
        "  def __enter__(self):\n",
        "    print(\"enter\")\n",
        "    return self.file\n",
        "\n",
        "  def __exit__(self,type,value,traceback): #this dunder method is used for handling exceptions\n",
        "    print(f\"{type},{value},{traceback}\")\n",
        "    print(\"exit\")\n",
        "    self.file.close()\n",
        "    if type == Exception:\n",
        "      return True"
      ],
      "execution_count": 43,
      "outputs": []
    },
    {
      "cell_type": "code",
      "metadata": {
        "id": "OKkkjGDz87_P",
        "outputId": "ecadc16c-44e9-4c82-d44e-5259f460b876",
        "colab": {
          "base_uri": "https://localhost:8080/",
          "height": 90
        }
      },
      "source": [
        "with File(\"/content/file.txt\",\"w\") as f:\n",
        "  print(\"middle\")\n",
        "  f.write(\"hello\")\n",
        "  raise Exception()"
      ],
      "execution_count": 49,
      "outputs": [
        {
          "output_type": "stream",
          "text": [
            "enter\n",
            "middle\n",
            "<class 'Exception'>,,<traceback object at 0x7fb9d7bdaf48>\n",
            "exit\n"
          ],
          "name": "stdout"
        }
      ]
    },
    {
      "cell_type": "markdown",
      "metadata": {
        "id": "OSNlXtrg90Ev"
      },
      "source": [
        "As you can see the exception that was raised was properly handled inside the ```__exit__``` dunder method and therefore did not cause any errors. If the return was anything different from true, it would have caused errors as well.\n",
        "\n",
        "Now, using generators and decorators:"
      ]
    },
    {
      "cell_type": "code",
      "metadata": {
        "id": "Rs4b7ndR-axP"
      },
      "source": [
        "import contextlib"
      ],
      "execution_count": 50,
      "outputs": []
    },
    {
      "cell_type": "code",
      "metadata": {
        "id": "ma41084T-dXH"
      },
      "source": [
        "@contextlib.contextmanager\n",
        "def file(filename,method):\n",
        "  print(\"enter\")\n",
        "  file = open(filename,method)\n",
        "  yield file\n",
        "  file.close()\n",
        "  print(\"exit\")"
      ],
      "execution_count": 52,
      "outputs": []
    },
    {
      "cell_type": "code",
      "metadata": {
        "id": "4bPgHQAE-4n7",
        "outputId": "ef0aa4f3-d3eb-4f95-9baa-0df3ea9dce3f",
        "colab": {
          "base_uri": "https://localhost:8080/",
          "height": 72
        }
      },
      "source": [
        "with file(\"/content/file.txt\",\"w\") as f:\n",
        "  print(\"middle\")\n",
        "  f.write(\"hello2\")"
      ],
      "execution_count": 53,
      "outputs": [
        {
          "output_type": "stream",
          "text": [
            "enter\n",
            "middle\n",
            "exit\n"
          ],
          "name": "stdout"
        }
      ]
    },
    {
      "cell_type": "markdown",
      "metadata": {
        "id": "JvkuwwB0_fJG"
      },
      "source": [
        "Both are valid ways of creating context managers and are very useful for openening files, or handling locks in case you're working with threading."
      ]
    },
    {
      "cell_type": "markdown",
      "metadata": {
        "id": "qmsCKE-bWoP2"
      },
      "source": [
        "#Final Considerations\n",
        "\n",
        "Some of theese topics were very difficult to understand at first, but thanks to this youtube playlist: https://www.youtube.com/watch?v=NAQEj-c2CI8&list=PLzMcBGfZo4-kwmIcMDdXSuy_wSqtU-xDP&index=3, it became extremely easier.\n",
        "\n",
        "Kudos to the Tech With Tim Channel: https://www.youtube.com/channel/UC4JX40jDee_tINbkjycV4Sg, for making a very good advanced level python tutorial.\n",
        "\n",
        "I believe I am not done with my python notes and probably will make more of them. I'll be sure to name my sources as much as I can so that this is not the only source of unlimited knowledge in the universe. All jokes aside, the sheer amount of snooping around for Python topics I have been doing have been paying off and I encourage anyone reading to seek the sources, so that misinformation can be avoided in the case of any mistakes I may have made."
      ]
    },
    {
      "cell_type": "markdown",
      "metadata": {
        "id": "MIflHdDRZBJA"
      },
      "source": [
        "#Sources\n",
        "* https://www.youtube.com/watch?v=NAQEj-c2CI8&list=PLzMcBGfZo4-kwmIcMDdXSuy_wSqtU-xDP&index=3"
      ]
    },
    {
      "cell_type": "code",
      "metadata": {
        "id": "g4TIyP9JZIsR"
      },
      "source": [
        ""
      ],
      "execution_count": null,
      "outputs": []
    }
  ]
}